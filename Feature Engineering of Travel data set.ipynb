{
 "cells": [
  {
   "cell_type": "code",
   "execution_count": 5,
   "id": "f126a43c",
   "metadata": {},
   "outputs": [],
   "source": [
    "import pandas as pd\n",
    "import numpy as np\n",
    "import matplotlib.pyplot as plt\n",
    "import seaborn as sns \n"
   ]
  },
  {
   "cell_type": "code",
   "execution_count": 6,
   "id": "960ffadb",
   "metadata": {},
   "outputs": [],
   "source": [
    "df=pd.read_csv('Travel.csv')"
   ]
  },
  {
   "cell_type": "markdown",
   "id": "81fb91b9",
   "metadata": {},
   "source": [
    "# Find top and bottom dataframe"
   ]
  },
  {
   "cell_type": "code",
   "execution_count": 8,
   "id": "7030e44c",
   "metadata": {},
   "outputs": [
    {
     "data": {
      "text/html": [
       "<div>\n",
       "<style scoped>\n",
       "    .dataframe tbody tr th:only-of-type {\n",
       "        vertical-align: middle;\n",
       "    }\n",
       "\n",
       "    .dataframe tbody tr th {\n",
       "        vertical-align: top;\n",
       "    }\n",
       "\n",
       "    .dataframe thead th {\n",
       "        text-align: right;\n",
       "    }\n",
       "</style>\n",
       "<table border=\"1\" class=\"dataframe\">\n",
       "  <thead>\n",
       "    <tr style=\"text-align: right;\">\n",
       "      <th></th>\n",
       "      <th>CustomerID</th>\n",
       "      <th>ProdTaken</th>\n",
       "      <th>Age</th>\n",
       "      <th>TypeofContact</th>\n",
       "      <th>CityTier</th>\n",
       "      <th>DurationOfPitch</th>\n",
       "      <th>Occupation</th>\n",
       "      <th>Gender</th>\n",
       "      <th>NumberOfPersonVisiting</th>\n",
       "      <th>NumberOfFollowups</th>\n",
       "      <th>ProductPitched</th>\n",
       "      <th>PreferredPropertyStar</th>\n",
       "      <th>MaritalStatus</th>\n",
       "      <th>NumberOfTrips</th>\n",
       "      <th>Passport</th>\n",
       "      <th>PitchSatisfactionScore</th>\n",
       "      <th>OwnCar</th>\n",
       "      <th>NumberOfChildrenVisiting</th>\n",
       "      <th>Designation</th>\n",
       "      <th>MonthlyIncome</th>\n",
       "    </tr>\n",
       "  </thead>\n",
       "  <tbody>\n",
       "    <tr>\n",
       "      <th>0</th>\n",
       "      <td>200000</td>\n",
       "      <td>1</td>\n",
       "      <td>41.0</td>\n",
       "      <td>Self Enquiry</td>\n",
       "      <td>3</td>\n",
       "      <td>6.0</td>\n",
       "      <td>Salaried</td>\n",
       "      <td>Female</td>\n",
       "      <td>3</td>\n",
       "      <td>3.0</td>\n",
       "      <td>Deluxe</td>\n",
       "      <td>3.0</td>\n",
       "      <td>Single</td>\n",
       "      <td>1.0</td>\n",
       "      <td>1</td>\n",
       "      <td>2</td>\n",
       "      <td>1</td>\n",
       "      <td>0.0</td>\n",
       "      <td>Manager</td>\n",
       "      <td>20993.0</td>\n",
       "    </tr>\n",
       "    <tr>\n",
       "      <th>1</th>\n",
       "      <td>200001</td>\n",
       "      <td>0</td>\n",
       "      <td>49.0</td>\n",
       "      <td>Company Invited</td>\n",
       "      <td>1</td>\n",
       "      <td>14.0</td>\n",
       "      <td>Salaried</td>\n",
       "      <td>Male</td>\n",
       "      <td>3</td>\n",
       "      <td>4.0</td>\n",
       "      <td>Deluxe</td>\n",
       "      <td>4.0</td>\n",
       "      <td>Divorced</td>\n",
       "      <td>2.0</td>\n",
       "      <td>0</td>\n",
       "      <td>3</td>\n",
       "      <td>1</td>\n",
       "      <td>2.0</td>\n",
       "      <td>Manager</td>\n",
       "      <td>20130.0</td>\n",
       "    </tr>\n",
       "    <tr>\n",
       "      <th>2</th>\n",
       "      <td>200002</td>\n",
       "      <td>1</td>\n",
       "      <td>37.0</td>\n",
       "      <td>Self Enquiry</td>\n",
       "      <td>1</td>\n",
       "      <td>8.0</td>\n",
       "      <td>Free Lancer</td>\n",
       "      <td>Male</td>\n",
       "      <td>3</td>\n",
       "      <td>4.0</td>\n",
       "      <td>Basic</td>\n",
       "      <td>3.0</td>\n",
       "      <td>Single</td>\n",
       "      <td>7.0</td>\n",
       "      <td>1</td>\n",
       "      <td>3</td>\n",
       "      <td>0</td>\n",
       "      <td>0.0</td>\n",
       "      <td>Executive</td>\n",
       "      <td>17090.0</td>\n",
       "    </tr>\n",
       "    <tr>\n",
       "      <th>3</th>\n",
       "      <td>200003</td>\n",
       "      <td>0</td>\n",
       "      <td>33.0</td>\n",
       "      <td>Company Invited</td>\n",
       "      <td>1</td>\n",
       "      <td>9.0</td>\n",
       "      <td>Salaried</td>\n",
       "      <td>Female</td>\n",
       "      <td>2</td>\n",
       "      <td>3.0</td>\n",
       "      <td>Basic</td>\n",
       "      <td>3.0</td>\n",
       "      <td>Divorced</td>\n",
       "      <td>2.0</td>\n",
       "      <td>1</td>\n",
       "      <td>5</td>\n",
       "      <td>1</td>\n",
       "      <td>1.0</td>\n",
       "      <td>Executive</td>\n",
       "      <td>17909.0</td>\n",
       "    </tr>\n",
       "    <tr>\n",
       "      <th>4</th>\n",
       "      <td>200004</td>\n",
       "      <td>0</td>\n",
       "      <td>NaN</td>\n",
       "      <td>Self Enquiry</td>\n",
       "      <td>1</td>\n",
       "      <td>8.0</td>\n",
       "      <td>Small Business</td>\n",
       "      <td>Male</td>\n",
       "      <td>2</td>\n",
       "      <td>3.0</td>\n",
       "      <td>Basic</td>\n",
       "      <td>4.0</td>\n",
       "      <td>Divorced</td>\n",
       "      <td>1.0</td>\n",
       "      <td>0</td>\n",
       "      <td>5</td>\n",
       "      <td>1</td>\n",
       "      <td>0.0</td>\n",
       "      <td>Executive</td>\n",
       "      <td>18468.0</td>\n",
       "    </tr>\n",
       "  </tbody>\n",
       "</table>\n",
       "</div>"
      ],
      "text/plain": [
       "   CustomerID  ProdTaken   Age    TypeofContact  CityTier  DurationOfPitch  \\\n",
       "0      200000          1  41.0     Self Enquiry         3              6.0   \n",
       "1      200001          0  49.0  Company Invited         1             14.0   \n",
       "2      200002          1  37.0     Self Enquiry         1              8.0   \n",
       "3      200003          0  33.0  Company Invited         1              9.0   \n",
       "4      200004          0   NaN     Self Enquiry         1              8.0   \n",
       "\n",
       "       Occupation  Gender  NumberOfPersonVisiting  NumberOfFollowups  \\\n",
       "0        Salaried  Female                       3                3.0   \n",
       "1        Salaried    Male                       3                4.0   \n",
       "2     Free Lancer    Male                       3                4.0   \n",
       "3        Salaried  Female                       2                3.0   \n",
       "4  Small Business    Male                       2                3.0   \n",
       "\n",
       "  ProductPitched  PreferredPropertyStar MaritalStatus  NumberOfTrips  \\\n",
       "0         Deluxe                    3.0        Single            1.0   \n",
       "1         Deluxe                    4.0      Divorced            2.0   \n",
       "2          Basic                    3.0        Single            7.0   \n",
       "3          Basic                    3.0      Divorced            2.0   \n",
       "4          Basic                    4.0      Divorced            1.0   \n",
       "\n",
       "   Passport  PitchSatisfactionScore  OwnCar  NumberOfChildrenVisiting  \\\n",
       "0         1                       2       1                       0.0   \n",
       "1         0                       3       1                       2.0   \n",
       "2         1                       3       0                       0.0   \n",
       "3         1                       5       1                       1.0   \n",
       "4         0                       5       1                       0.0   \n",
       "\n",
       "  Designation  MonthlyIncome  \n",
       "0     Manager        20993.0  \n",
       "1     Manager        20130.0  \n",
       "2   Executive        17090.0  \n",
       "3   Executive        17909.0  \n",
       "4   Executive        18468.0  "
      ]
     },
     "execution_count": 8,
     "metadata": {},
     "output_type": "execute_result"
    }
   ],
   "source": [
    "df.head()"
   ]
  },
  {
   "cell_type": "code",
   "execution_count": 9,
   "id": "916d1689",
   "metadata": {},
   "outputs": [
    {
     "data": {
      "text/html": [
       "<div>\n",
       "<style scoped>\n",
       "    .dataframe tbody tr th:only-of-type {\n",
       "        vertical-align: middle;\n",
       "    }\n",
       "\n",
       "    .dataframe tbody tr th {\n",
       "        vertical-align: top;\n",
       "    }\n",
       "\n",
       "    .dataframe thead th {\n",
       "        text-align: right;\n",
       "    }\n",
       "</style>\n",
       "<table border=\"1\" class=\"dataframe\">\n",
       "  <thead>\n",
       "    <tr style=\"text-align: right;\">\n",
       "      <th></th>\n",
       "      <th>CustomerID</th>\n",
       "      <th>ProdTaken</th>\n",
       "      <th>Age</th>\n",
       "      <th>TypeofContact</th>\n",
       "      <th>CityTier</th>\n",
       "      <th>DurationOfPitch</th>\n",
       "      <th>Occupation</th>\n",
       "      <th>Gender</th>\n",
       "      <th>NumberOfPersonVisiting</th>\n",
       "      <th>NumberOfFollowups</th>\n",
       "      <th>ProductPitched</th>\n",
       "      <th>PreferredPropertyStar</th>\n",
       "      <th>MaritalStatus</th>\n",
       "      <th>NumberOfTrips</th>\n",
       "      <th>Passport</th>\n",
       "      <th>PitchSatisfactionScore</th>\n",
       "      <th>OwnCar</th>\n",
       "      <th>NumberOfChildrenVisiting</th>\n",
       "      <th>Designation</th>\n",
       "      <th>MonthlyIncome</th>\n",
       "    </tr>\n",
       "  </thead>\n",
       "  <tbody>\n",
       "    <tr>\n",
       "      <th>4883</th>\n",
       "      <td>204883</td>\n",
       "      <td>1</td>\n",
       "      <td>49.0</td>\n",
       "      <td>Self Enquiry</td>\n",
       "      <td>3</td>\n",
       "      <td>9.0</td>\n",
       "      <td>Small Business</td>\n",
       "      <td>Male</td>\n",
       "      <td>3</td>\n",
       "      <td>5.0</td>\n",
       "      <td>Deluxe</td>\n",
       "      <td>4.0</td>\n",
       "      <td>Unmarried</td>\n",
       "      <td>2.0</td>\n",
       "      <td>1</td>\n",
       "      <td>1</td>\n",
       "      <td>1</td>\n",
       "      <td>1.0</td>\n",
       "      <td>Manager</td>\n",
       "      <td>26576.0</td>\n",
       "    </tr>\n",
       "    <tr>\n",
       "      <th>4884</th>\n",
       "      <td>204884</td>\n",
       "      <td>1</td>\n",
       "      <td>28.0</td>\n",
       "      <td>Company Invited</td>\n",
       "      <td>1</td>\n",
       "      <td>31.0</td>\n",
       "      <td>Salaried</td>\n",
       "      <td>Male</td>\n",
       "      <td>4</td>\n",
       "      <td>5.0</td>\n",
       "      <td>Basic</td>\n",
       "      <td>3.0</td>\n",
       "      <td>Single</td>\n",
       "      <td>3.0</td>\n",
       "      <td>1</td>\n",
       "      <td>3</td>\n",
       "      <td>1</td>\n",
       "      <td>2.0</td>\n",
       "      <td>Executive</td>\n",
       "      <td>21212.0</td>\n",
       "    </tr>\n",
       "    <tr>\n",
       "      <th>4885</th>\n",
       "      <td>204885</td>\n",
       "      <td>1</td>\n",
       "      <td>52.0</td>\n",
       "      <td>Self Enquiry</td>\n",
       "      <td>3</td>\n",
       "      <td>17.0</td>\n",
       "      <td>Salaried</td>\n",
       "      <td>Female</td>\n",
       "      <td>4</td>\n",
       "      <td>4.0</td>\n",
       "      <td>Standard</td>\n",
       "      <td>4.0</td>\n",
       "      <td>Married</td>\n",
       "      <td>7.0</td>\n",
       "      <td>0</td>\n",
       "      <td>1</td>\n",
       "      <td>1</td>\n",
       "      <td>3.0</td>\n",
       "      <td>Senior Manager</td>\n",
       "      <td>31820.0</td>\n",
       "    </tr>\n",
       "    <tr>\n",
       "      <th>4886</th>\n",
       "      <td>204886</td>\n",
       "      <td>1</td>\n",
       "      <td>19.0</td>\n",
       "      <td>Self Enquiry</td>\n",
       "      <td>3</td>\n",
       "      <td>16.0</td>\n",
       "      <td>Small Business</td>\n",
       "      <td>Male</td>\n",
       "      <td>3</td>\n",
       "      <td>4.0</td>\n",
       "      <td>Basic</td>\n",
       "      <td>3.0</td>\n",
       "      <td>Single</td>\n",
       "      <td>3.0</td>\n",
       "      <td>0</td>\n",
       "      <td>5</td>\n",
       "      <td>0</td>\n",
       "      <td>2.0</td>\n",
       "      <td>Executive</td>\n",
       "      <td>20289.0</td>\n",
       "    </tr>\n",
       "    <tr>\n",
       "      <th>4887</th>\n",
       "      <td>204887</td>\n",
       "      <td>1</td>\n",
       "      <td>36.0</td>\n",
       "      <td>Self Enquiry</td>\n",
       "      <td>1</td>\n",
       "      <td>14.0</td>\n",
       "      <td>Salaried</td>\n",
       "      <td>Male</td>\n",
       "      <td>4</td>\n",
       "      <td>4.0</td>\n",
       "      <td>Basic</td>\n",
       "      <td>4.0</td>\n",
       "      <td>Unmarried</td>\n",
       "      <td>3.0</td>\n",
       "      <td>1</td>\n",
       "      <td>3</td>\n",
       "      <td>1</td>\n",
       "      <td>2.0</td>\n",
       "      <td>Executive</td>\n",
       "      <td>24041.0</td>\n",
       "    </tr>\n",
       "  </tbody>\n",
       "</table>\n",
       "</div>"
      ],
      "text/plain": [
       "      CustomerID  ProdTaken   Age    TypeofContact  CityTier  DurationOfPitch  \\\n",
       "4883      204883          1  49.0     Self Enquiry         3              9.0   \n",
       "4884      204884          1  28.0  Company Invited         1             31.0   \n",
       "4885      204885          1  52.0     Self Enquiry         3             17.0   \n",
       "4886      204886          1  19.0     Self Enquiry         3             16.0   \n",
       "4887      204887          1  36.0     Self Enquiry         1             14.0   \n",
       "\n",
       "          Occupation  Gender  NumberOfPersonVisiting  NumberOfFollowups  \\\n",
       "4883  Small Business    Male                       3                5.0   \n",
       "4884        Salaried    Male                       4                5.0   \n",
       "4885        Salaried  Female                       4                4.0   \n",
       "4886  Small Business    Male                       3                4.0   \n",
       "4887        Salaried    Male                       4                4.0   \n",
       "\n",
       "     ProductPitched  PreferredPropertyStar MaritalStatus  NumberOfTrips  \\\n",
       "4883         Deluxe                    4.0     Unmarried            2.0   \n",
       "4884          Basic                    3.0        Single            3.0   \n",
       "4885       Standard                    4.0       Married            7.0   \n",
       "4886          Basic                    3.0        Single            3.0   \n",
       "4887          Basic                    4.0     Unmarried            3.0   \n",
       "\n",
       "      Passport  PitchSatisfactionScore  OwnCar  NumberOfChildrenVisiting  \\\n",
       "4883         1                       1       1                       1.0   \n",
       "4884         1                       3       1                       2.0   \n",
       "4885         0                       1       1                       3.0   \n",
       "4886         0                       5       0                       2.0   \n",
       "4887         1                       3       1                       2.0   \n",
       "\n",
       "         Designation  MonthlyIncome  \n",
       "4883         Manager        26576.0  \n",
       "4884       Executive        21212.0  \n",
       "4885  Senior Manager        31820.0  \n",
       "4886       Executive        20289.0  \n",
       "4887       Executive        24041.0  "
      ]
     },
     "execution_count": 9,
     "metadata": {},
     "output_type": "execute_result"
    }
   ],
   "source": [
    "df.tail()"
   ]
  },
  {
   "cell_type": "markdown",
   "id": "3eceff6f",
   "metadata": {},
   "source": [
    "# Find shape of dataframe"
   ]
  },
  {
   "cell_type": "code",
   "execution_count": 10,
   "id": "baa2fd95",
   "metadata": {},
   "outputs": [
    {
     "data": {
      "text/plain": [
       "(4888, 20)"
      ]
     },
     "execution_count": 10,
     "metadata": {},
     "output_type": "execute_result"
    }
   ],
   "source": [
    "df.shape"
   ]
  },
  {
   "cell_type": "code",
   "execution_count": 11,
   "id": "8d618f30",
   "metadata": {},
   "outputs": [
    {
     "name": "stdout",
     "output_type": "stream",
     "text": [
      "<class 'pandas.core.frame.DataFrame'>\n",
      "RangeIndex: 4888 entries, 0 to 4887\n",
      "Data columns (total 20 columns):\n",
      " #   Column                    Non-Null Count  Dtype  \n",
      "---  ------                    --------------  -----  \n",
      " 0   CustomerID                4888 non-null   int64  \n",
      " 1   ProdTaken                 4888 non-null   int64  \n",
      " 2   Age                       4662 non-null   float64\n",
      " 3   TypeofContact             4863 non-null   object \n",
      " 4   CityTier                  4888 non-null   int64  \n",
      " 5   DurationOfPitch           4637 non-null   float64\n",
      " 6   Occupation                4888 non-null   object \n",
      " 7   Gender                    4888 non-null   object \n",
      " 8   NumberOfPersonVisiting    4888 non-null   int64  \n",
      " 9   NumberOfFollowups         4843 non-null   float64\n",
      " 10  ProductPitched            4888 non-null   object \n",
      " 11  PreferredPropertyStar     4862 non-null   float64\n",
      " 12  MaritalStatus             4888 non-null   object \n",
      " 13  NumberOfTrips             4748 non-null   float64\n",
      " 14  Passport                  4888 non-null   int64  \n",
      " 15  PitchSatisfactionScore    4888 non-null   int64  \n",
      " 16  OwnCar                    4888 non-null   int64  \n",
      " 17  NumberOfChildrenVisiting  4822 non-null   float64\n",
      " 18  Designation               4888 non-null   object \n",
      " 19  MonthlyIncome             4655 non-null   float64\n",
      "dtypes: float64(7), int64(7), object(6)\n",
      "memory usage: 763.9+ KB\n"
     ]
    }
   ],
   "source": [
    "df.info()"
   ]
  },
  {
   "cell_type": "markdown",
   "id": "e0dbb3a1",
   "metadata": {},
   "source": [
    "# Get description of numerical data"
   ]
  },
  {
   "cell_type": "code",
   "execution_count": 12,
   "id": "8a1e0ba7",
   "metadata": {},
   "outputs": [
    {
     "data": {
      "text/html": [
       "<div>\n",
       "<style scoped>\n",
       "    .dataframe tbody tr th:only-of-type {\n",
       "        vertical-align: middle;\n",
       "    }\n",
       "\n",
       "    .dataframe tbody tr th {\n",
       "        vertical-align: top;\n",
       "    }\n",
       "\n",
       "    .dataframe thead th {\n",
       "        text-align: right;\n",
       "    }\n",
       "</style>\n",
       "<table border=\"1\" class=\"dataframe\">\n",
       "  <thead>\n",
       "    <tr style=\"text-align: right;\">\n",
       "      <th></th>\n",
       "      <th>CustomerID</th>\n",
       "      <th>ProdTaken</th>\n",
       "      <th>Age</th>\n",
       "      <th>CityTier</th>\n",
       "      <th>DurationOfPitch</th>\n",
       "      <th>NumberOfPersonVisiting</th>\n",
       "      <th>NumberOfFollowups</th>\n",
       "      <th>PreferredPropertyStar</th>\n",
       "      <th>NumberOfTrips</th>\n",
       "      <th>Passport</th>\n",
       "      <th>PitchSatisfactionScore</th>\n",
       "      <th>OwnCar</th>\n",
       "      <th>NumberOfChildrenVisiting</th>\n",
       "      <th>MonthlyIncome</th>\n",
       "    </tr>\n",
       "  </thead>\n",
       "  <tbody>\n",
       "    <tr>\n",
       "      <th>count</th>\n",
       "      <td>4888.000000</td>\n",
       "      <td>4888.000000</td>\n",
       "      <td>4662.000000</td>\n",
       "      <td>4888.000000</td>\n",
       "      <td>4637.000000</td>\n",
       "      <td>4888.000000</td>\n",
       "      <td>4843.000000</td>\n",
       "      <td>4862.000000</td>\n",
       "      <td>4748.000000</td>\n",
       "      <td>4888.000000</td>\n",
       "      <td>4888.000000</td>\n",
       "      <td>4888.000000</td>\n",
       "      <td>4822.000000</td>\n",
       "      <td>4655.000000</td>\n",
       "    </tr>\n",
       "    <tr>\n",
       "      <th>mean</th>\n",
       "      <td>202443.500000</td>\n",
       "      <td>0.188216</td>\n",
       "      <td>37.622265</td>\n",
       "      <td>1.654255</td>\n",
       "      <td>15.490835</td>\n",
       "      <td>2.905074</td>\n",
       "      <td>3.708445</td>\n",
       "      <td>3.581037</td>\n",
       "      <td>3.236521</td>\n",
       "      <td>0.290917</td>\n",
       "      <td>3.078151</td>\n",
       "      <td>0.620295</td>\n",
       "      <td>1.187267</td>\n",
       "      <td>23619.853491</td>\n",
       "    </tr>\n",
       "    <tr>\n",
       "      <th>std</th>\n",
       "      <td>1411.188388</td>\n",
       "      <td>0.390925</td>\n",
       "      <td>9.316387</td>\n",
       "      <td>0.916583</td>\n",
       "      <td>8.519643</td>\n",
       "      <td>0.724891</td>\n",
       "      <td>1.002509</td>\n",
       "      <td>0.798009</td>\n",
       "      <td>1.849019</td>\n",
       "      <td>0.454232</td>\n",
       "      <td>1.365792</td>\n",
       "      <td>0.485363</td>\n",
       "      <td>0.857861</td>\n",
       "      <td>5380.698361</td>\n",
       "    </tr>\n",
       "    <tr>\n",
       "      <th>min</th>\n",
       "      <td>200000.000000</td>\n",
       "      <td>0.000000</td>\n",
       "      <td>18.000000</td>\n",
       "      <td>1.000000</td>\n",
       "      <td>5.000000</td>\n",
       "      <td>1.000000</td>\n",
       "      <td>1.000000</td>\n",
       "      <td>3.000000</td>\n",
       "      <td>1.000000</td>\n",
       "      <td>0.000000</td>\n",
       "      <td>1.000000</td>\n",
       "      <td>0.000000</td>\n",
       "      <td>0.000000</td>\n",
       "      <td>1000.000000</td>\n",
       "    </tr>\n",
       "    <tr>\n",
       "      <th>25%</th>\n",
       "      <td>201221.750000</td>\n",
       "      <td>0.000000</td>\n",
       "      <td>31.000000</td>\n",
       "      <td>1.000000</td>\n",
       "      <td>9.000000</td>\n",
       "      <td>2.000000</td>\n",
       "      <td>3.000000</td>\n",
       "      <td>3.000000</td>\n",
       "      <td>2.000000</td>\n",
       "      <td>0.000000</td>\n",
       "      <td>2.000000</td>\n",
       "      <td>0.000000</td>\n",
       "      <td>1.000000</td>\n",
       "      <td>20346.000000</td>\n",
       "    </tr>\n",
       "    <tr>\n",
       "      <th>50%</th>\n",
       "      <td>202443.500000</td>\n",
       "      <td>0.000000</td>\n",
       "      <td>36.000000</td>\n",
       "      <td>1.000000</td>\n",
       "      <td>13.000000</td>\n",
       "      <td>3.000000</td>\n",
       "      <td>4.000000</td>\n",
       "      <td>3.000000</td>\n",
       "      <td>3.000000</td>\n",
       "      <td>0.000000</td>\n",
       "      <td>3.000000</td>\n",
       "      <td>1.000000</td>\n",
       "      <td>1.000000</td>\n",
       "      <td>22347.000000</td>\n",
       "    </tr>\n",
       "    <tr>\n",
       "      <th>75%</th>\n",
       "      <td>203665.250000</td>\n",
       "      <td>0.000000</td>\n",
       "      <td>44.000000</td>\n",
       "      <td>3.000000</td>\n",
       "      <td>20.000000</td>\n",
       "      <td>3.000000</td>\n",
       "      <td>4.000000</td>\n",
       "      <td>4.000000</td>\n",
       "      <td>4.000000</td>\n",
       "      <td>1.000000</td>\n",
       "      <td>4.000000</td>\n",
       "      <td>1.000000</td>\n",
       "      <td>2.000000</td>\n",
       "      <td>25571.000000</td>\n",
       "    </tr>\n",
       "    <tr>\n",
       "      <th>max</th>\n",
       "      <td>204887.000000</td>\n",
       "      <td>1.000000</td>\n",
       "      <td>61.000000</td>\n",
       "      <td>3.000000</td>\n",
       "      <td>127.000000</td>\n",
       "      <td>5.000000</td>\n",
       "      <td>6.000000</td>\n",
       "      <td>5.000000</td>\n",
       "      <td>22.000000</td>\n",
       "      <td>1.000000</td>\n",
       "      <td>5.000000</td>\n",
       "      <td>1.000000</td>\n",
       "      <td>3.000000</td>\n",
       "      <td>98678.000000</td>\n",
       "    </tr>\n",
       "  </tbody>\n",
       "</table>\n",
       "</div>"
      ],
      "text/plain": [
       "          CustomerID    ProdTaken          Age     CityTier  DurationOfPitch  \\\n",
       "count    4888.000000  4888.000000  4662.000000  4888.000000      4637.000000   \n",
       "mean   202443.500000     0.188216    37.622265     1.654255        15.490835   \n",
       "std      1411.188388     0.390925     9.316387     0.916583         8.519643   \n",
       "min    200000.000000     0.000000    18.000000     1.000000         5.000000   \n",
       "25%    201221.750000     0.000000    31.000000     1.000000         9.000000   \n",
       "50%    202443.500000     0.000000    36.000000     1.000000        13.000000   \n",
       "75%    203665.250000     0.000000    44.000000     3.000000        20.000000   \n",
       "max    204887.000000     1.000000    61.000000     3.000000       127.000000   \n",
       "\n",
       "       NumberOfPersonVisiting  NumberOfFollowups  PreferredPropertyStar  \\\n",
       "count             4888.000000        4843.000000            4862.000000   \n",
       "mean                 2.905074           3.708445               3.581037   \n",
       "std                  0.724891           1.002509               0.798009   \n",
       "min                  1.000000           1.000000               3.000000   \n",
       "25%                  2.000000           3.000000               3.000000   \n",
       "50%                  3.000000           4.000000               3.000000   \n",
       "75%                  3.000000           4.000000               4.000000   \n",
       "max                  5.000000           6.000000               5.000000   \n",
       "\n",
       "       NumberOfTrips     Passport  PitchSatisfactionScore       OwnCar  \\\n",
       "count    4748.000000  4888.000000             4888.000000  4888.000000   \n",
       "mean        3.236521     0.290917                3.078151     0.620295   \n",
       "std         1.849019     0.454232                1.365792     0.485363   \n",
       "min         1.000000     0.000000                1.000000     0.000000   \n",
       "25%         2.000000     0.000000                2.000000     0.000000   \n",
       "50%         3.000000     0.000000                3.000000     1.000000   \n",
       "75%         4.000000     1.000000                4.000000     1.000000   \n",
       "max        22.000000     1.000000                5.000000     1.000000   \n",
       "\n",
       "       NumberOfChildrenVisiting  MonthlyIncome  \n",
       "count               4822.000000    4655.000000  \n",
       "mean                   1.187267   23619.853491  \n",
       "std                    0.857861    5380.698361  \n",
       "min                    0.000000    1000.000000  \n",
       "25%                    1.000000   20346.000000  \n",
       "50%                    1.000000   22347.000000  \n",
       "75%                    2.000000   25571.000000  \n",
       "max                    3.000000   98678.000000  "
      ]
     },
     "execution_count": 12,
     "metadata": {},
     "output_type": "execute_result"
    }
   ],
   "source": [
    "df.describe()"
   ]
  },
  {
   "cell_type": "code",
   "execution_count": 13,
   "id": "32a1cf1f",
   "metadata": {},
   "outputs": [
    {
     "data": {
      "text/plain": [
       "Index(['CustomerID', 'ProdTaken', 'Age', 'TypeofContact', 'CityTier',\n",
       "       'DurationOfPitch', 'Occupation', 'Gender', 'NumberOfPersonVisiting',\n",
       "       'NumberOfFollowups', 'ProductPitched', 'PreferredPropertyStar',\n",
       "       'MaritalStatus', 'NumberOfTrips', 'Passport', 'PitchSatisfactionScore',\n",
       "       'OwnCar', 'NumberOfChildrenVisiting', 'Designation', 'MonthlyIncome'],\n",
       "      dtype='object')"
      ]
     },
     "execution_count": 13,
     "metadata": {},
     "output_type": "execute_result"
    }
   ],
   "source": [
    "df.columns"
   ]
  },
  {
   "cell_type": "code",
   "execution_count": 14,
   "id": "74739a43",
   "metadata": {},
   "outputs": [
    {
     "data": {
      "text/html": [
       "<div>\n",
       "<style scoped>\n",
       "    .dataframe tbody tr th:only-of-type {\n",
       "        vertical-align: middle;\n",
       "    }\n",
       "\n",
       "    .dataframe tbody tr th {\n",
       "        vertical-align: top;\n",
       "    }\n",
       "\n",
       "    .dataframe thead th {\n",
       "        text-align: right;\n",
       "    }\n",
       "</style>\n",
       "<table border=\"1\" class=\"dataframe\">\n",
       "  <thead>\n",
       "    <tr style=\"text-align: right;\">\n",
       "      <th></th>\n",
       "      <th>CustomerID</th>\n",
       "      <th>ProdTaken</th>\n",
       "      <th>Age</th>\n",
       "      <th>CityTier</th>\n",
       "      <th>DurationOfPitch</th>\n",
       "      <th>NumberOfPersonVisiting</th>\n",
       "      <th>NumberOfFollowups</th>\n",
       "      <th>PreferredPropertyStar</th>\n",
       "      <th>NumberOfTrips</th>\n",
       "      <th>Passport</th>\n",
       "      <th>PitchSatisfactionScore</th>\n",
       "      <th>OwnCar</th>\n",
       "      <th>NumberOfChildrenVisiting</th>\n",
       "      <th>MonthlyIncome</th>\n",
       "    </tr>\n",
       "  </thead>\n",
       "  <tbody>\n",
       "    <tr>\n",
       "      <th>CustomerID</th>\n",
       "      <td>1.991453e+06</td>\n",
       "      <td>31.172498</td>\n",
       "      <td>422.205754</td>\n",
       "      <td>16.782689</td>\n",
       "      <td>773.284086</td>\n",
       "      <td>617.879272</td>\n",
       "      <td>604.836139</td>\n",
       "      <td>11.875750</td>\n",
       "      <td>585.792362</td>\n",
       "      <td>5.111316</td>\n",
       "      <td>-69.092081</td>\n",
       "      <td>2.606098</td>\n",
       "      <td>620.088972</td>\n",
       "      <td>2.101033e+06</td>\n",
       "    </tr>\n",
       "    <tr>\n",
       "      <th>ProdTaken</th>\n",
       "      <td>3.117250e+01</td>\n",
       "      <td>0.152822</td>\n",
       "      <td>-0.535959</td>\n",
       "      <td>0.031120</td>\n",
       "      <td>0.260897</td>\n",
       "      <td>0.002728</td>\n",
       "      <td>0.043969</td>\n",
       "      <td>0.031050</td>\n",
       "      <td>0.013743</td>\n",
       "      <td>0.046318</td>\n",
       "      <td>0.027440</td>\n",
       "      <td>-0.002184</td>\n",
       "      <td>0.002494</td>\n",
       "      <td>-2.760977e+02</td>\n",
       "    </tr>\n",
       "    <tr>\n",
       "      <th>Age</th>\n",
       "      <td>4.222058e+02</td>\n",
       "      <td>-0.535959</td>\n",
       "      <td>86.795067</td>\n",
       "      <td>-0.134168</td>\n",
       "      <td>-0.944440</td>\n",
       "      <td>0.078126</td>\n",
       "      <td>-0.024058</td>\n",
       "      <td>-0.077447</td>\n",
       "      <td>3.158372</td>\n",
       "      <td>0.141269</td>\n",
       "      <td>0.235235</td>\n",
       "      <td>0.220050</td>\n",
       "      <td>0.058470</td>\n",
       "      <td>2.336518e+04</td>\n",
       "    </tr>\n",
       "    <tr>\n",
       "      <th>CityTier</th>\n",
       "      <td>1.678269e+01</td>\n",
       "      <td>0.031120</td>\n",
       "      <td>-0.134168</td>\n",
       "      <td>0.840125</td>\n",
       "      <td>0.176544</td>\n",
       "      <td>-0.001110</td>\n",
       "      <td>0.021716</td>\n",
       "      <td>-0.006707</td>\n",
       "      <td>-0.050474</td>\n",
       "      <td>0.000747</td>\n",
       "      <td>-0.052778</td>\n",
       "      <td>0.001698</td>\n",
       "      <td>0.000529</td>\n",
       "      <td>2.559460e+02</td>\n",
       "    </tr>\n",
       "    <tr>\n",
       "      <th>DurationOfPitch</th>\n",
       "      <td>7.732841e+02</td>\n",
       "      <td>0.260897</td>\n",
       "      <td>-0.944440</td>\n",
       "      <td>0.176544</td>\n",
       "      <td>72.584310</td>\n",
       "      <td>0.401434</td>\n",
       "      <td>0.080699</td>\n",
       "      <td>-0.045149</td>\n",
       "      <td>0.154174</td>\n",
       "      <td>0.128118</td>\n",
       "      <td>-0.033569</td>\n",
       "      <td>-0.006731</td>\n",
       "      <td>0.229346</td>\n",
       "      <td>-2.891828e+02</td>\n",
       "    </tr>\n",
       "    <tr>\n",
       "      <th>NumberOfPersonVisiting</th>\n",
       "      <td>6.178793e+02</td>\n",
       "      <td>0.002728</td>\n",
       "      <td>0.078126</td>\n",
       "      <td>-0.001110</td>\n",
       "      <td>0.401434</td>\n",
       "      <td>0.525466</td>\n",
       "      <td>0.238479</td>\n",
       "      <td>0.019575</td>\n",
       "      <td>0.261809</td>\n",
       "      <td>0.003680</td>\n",
       "      <td>-0.019386</td>\n",
       "      <td>0.003646</td>\n",
       "      <td>0.380176</td>\n",
       "      <td>7.565188e+02</td>\n",
       "    </tr>\n",
       "    <tr>\n",
       "      <th>NumberOfFollowups</th>\n",
       "      <td>6.048361e+02</td>\n",
       "      <td>0.043969</td>\n",
       "      <td>-0.024058</td>\n",
       "      <td>0.021716</td>\n",
       "      <td>0.080699</td>\n",
       "      <td>0.238479</td>\n",
       "      <td>1.005024</td>\n",
       "      <td>-0.019309</td>\n",
       "      <td>0.259783</td>\n",
       "      <td>0.002265</td>\n",
       "      <td>0.005550</td>\n",
       "      <td>0.005894</td>\n",
       "      <td>0.246696</td>\n",
       "      <td>9.580277e+02</td>\n",
       "    </tr>\n",
       "    <tr>\n",
       "      <th>PreferredPropertyStar</th>\n",
       "      <td>1.187575e+01</td>\n",
       "      <td>0.031050</td>\n",
       "      <td>-0.077447</td>\n",
       "      <td>-0.006707</td>\n",
       "      <td>-0.045149</td>\n",
       "      <td>0.019575</td>\n",
       "      <td>-0.019309</td>\n",
       "      <td>0.636818</td>\n",
       "      <td>0.017840</td>\n",
       "      <td>0.000377</td>\n",
       "      <td>-0.024736</td>\n",
       "      <td>0.006102</td>\n",
       "      <td>0.024441</td>\n",
       "      <td>5.884892e+01</td>\n",
       "    </tr>\n",
       "    <tr>\n",
       "      <th>NumberOfTrips</th>\n",
       "      <td>5.857924e+02</td>\n",
       "      <td>0.013743</td>\n",
       "      <td>3.158372</td>\n",
       "      <td>-0.050474</td>\n",
       "      <td>0.154174</td>\n",
       "      <td>0.261809</td>\n",
       "      <td>0.259783</td>\n",
       "      <td>0.017840</td>\n",
       "      <td>3.418872</td>\n",
       "      <td>0.010882</td>\n",
       "      <td>-0.011035</td>\n",
       "      <td>-0.010622</td>\n",
       "      <td>0.267269</td>\n",
       "      <td>1.265226e+03</td>\n",
       "    </tr>\n",
       "    <tr>\n",
       "      <th>Passport</th>\n",
       "      <td>5.111316e+00</td>\n",
       "      <td>0.046318</td>\n",
       "      <td>0.141269</td>\n",
       "      <td>0.000747</td>\n",
       "      <td>0.128118</td>\n",
       "      <td>0.003680</td>\n",
       "      <td>0.002265</td>\n",
       "      <td>0.000377</td>\n",
       "      <td>0.010882</td>\n",
       "      <td>0.206326</td>\n",
       "      <td>0.001815</td>\n",
       "      <td>-0.004923</td>\n",
       "      <td>0.007898</td>\n",
       "      <td>6.230027e+00</td>\n",
       "    </tr>\n",
       "    <tr>\n",
       "      <th>PitchSatisfactionScore</th>\n",
       "      <td>-6.909208e+01</td>\n",
       "      <td>0.027440</td>\n",
       "      <td>0.235235</td>\n",
       "      <td>-0.052778</td>\n",
       "      <td>-0.033569</td>\n",
       "      <td>-0.019386</td>\n",
       "      <td>0.005550</td>\n",
       "      <td>-0.024736</td>\n",
       "      <td>-0.011035</td>\n",
       "      <td>0.001815</td>\n",
       "      <td>1.865387</td>\n",
       "      <td>0.045641</td>\n",
       "      <td>0.001029</td>\n",
       "      <td>2.236679e+02</td>\n",
       "    </tr>\n",
       "    <tr>\n",
       "      <th>OwnCar</th>\n",
       "      <td>2.606098e+00</td>\n",
       "      <td>-0.002184</td>\n",
       "      <td>0.220050</td>\n",
       "      <td>0.001698</td>\n",
       "      <td>-0.006731</td>\n",
       "      <td>0.003646</td>\n",
       "      <td>0.005894</td>\n",
       "      <td>0.006102</td>\n",
       "      <td>-0.010622</td>\n",
       "      <td>-0.004923</td>\n",
       "      <td>0.045641</td>\n",
       "      <td>0.235577</td>\n",
       "      <td>0.011073</td>\n",
       "      <td>2.095549e+02</td>\n",
       "    </tr>\n",
       "    <tr>\n",
       "      <th>NumberOfChildrenVisiting</th>\n",
       "      <td>6.200890e+02</td>\n",
       "      <td>0.002494</td>\n",
       "      <td>0.058470</td>\n",
       "      <td>0.000529</td>\n",
       "      <td>0.229346</td>\n",
       "      <td>0.380176</td>\n",
       "      <td>0.246696</td>\n",
       "      <td>0.024441</td>\n",
       "      <td>0.267269</td>\n",
       "      <td>0.007898</td>\n",
       "      <td>0.001029</td>\n",
       "      <td>0.011073</td>\n",
       "      <td>0.735926</td>\n",
       "      <td>9.048496e+02</td>\n",
       "    </tr>\n",
       "    <tr>\n",
       "      <th>MonthlyIncome</th>\n",
       "      <td>2.101033e+06</td>\n",
       "      <td>-276.097744</td>\n",
       "      <td>23365.183349</td>\n",
       "      <td>255.945958</td>\n",
       "      <td>-289.182796</td>\n",
       "      <td>756.518793</td>\n",
       "      <td>958.027680</td>\n",
       "      <td>58.848919</td>\n",
       "      <td>1265.226486</td>\n",
       "      <td>6.230027</td>\n",
       "      <td>223.667867</td>\n",
       "      <td>209.554880</td>\n",
       "      <td>904.849579</td>\n",
       "      <td>2.895191e+07</td>\n",
       "    </tr>\n",
       "  </tbody>\n",
       "</table>\n",
       "</div>"
      ],
      "text/plain": [
       "                            CustomerID   ProdTaken           Age    CityTier  \\\n",
       "CustomerID                1.991453e+06   31.172498    422.205754   16.782689   \n",
       "ProdTaken                 3.117250e+01    0.152822     -0.535959    0.031120   \n",
       "Age                       4.222058e+02   -0.535959     86.795067   -0.134168   \n",
       "CityTier                  1.678269e+01    0.031120     -0.134168    0.840125   \n",
       "DurationOfPitch           7.732841e+02    0.260897     -0.944440    0.176544   \n",
       "NumberOfPersonVisiting    6.178793e+02    0.002728      0.078126   -0.001110   \n",
       "NumberOfFollowups         6.048361e+02    0.043969     -0.024058    0.021716   \n",
       "PreferredPropertyStar     1.187575e+01    0.031050     -0.077447   -0.006707   \n",
       "NumberOfTrips             5.857924e+02    0.013743      3.158372   -0.050474   \n",
       "Passport                  5.111316e+00    0.046318      0.141269    0.000747   \n",
       "PitchSatisfactionScore   -6.909208e+01    0.027440      0.235235   -0.052778   \n",
       "OwnCar                    2.606098e+00   -0.002184      0.220050    0.001698   \n",
       "NumberOfChildrenVisiting  6.200890e+02    0.002494      0.058470    0.000529   \n",
       "MonthlyIncome             2.101033e+06 -276.097744  23365.183349  255.945958   \n",
       "\n",
       "                          DurationOfPitch  NumberOfPersonVisiting  \\\n",
       "CustomerID                     773.284086              617.879272   \n",
       "ProdTaken                        0.260897                0.002728   \n",
       "Age                             -0.944440                0.078126   \n",
       "CityTier                         0.176544               -0.001110   \n",
       "DurationOfPitch                 72.584310                0.401434   \n",
       "NumberOfPersonVisiting           0.401434                0.525466   \n",
       "NumberOfFollowups                0.080699                0.238479   \n",
       "PreferredPropertyStar           -0.045149                0.019575   \n",
       "NumberOfTrips                    0.154174                0.261809   \n",
       "Passport                         0.128118                0.003680   \n",
       "PitchSatisfactionScore          -0.033569               -0.019386   \n",
       "OwnCar                          -0.006731                0.003646   \n",
       "NumberOfChildrenVisiting         0.229346                0.380176   \n",
       "MonthlyIncome                 -289.182796              756.518793   \n",
       "\n",
       "                          NumberOfFollowups  PreferredPropertyStar  \\\n",
       "CustomerID                       604.836139              11.875750   \n",
       "ProdTaken                          0.043969               0.031050   \n",
       "Age                               -0.024058              -0.077447   \n",
       "CityTier                           0.021716              -0.006707   \n",
       "DurationOfPitch                    0.080699              -0.045149   \n",
       "NumberOfPersonVisiting             0.238479               0.019575   \n",
       "NumberOfFollowups                  1.005024              -0.019309   \n",
       "PreferredPropertyStar             -0.019309               0.636818   \n",
       "NumberOfTrips                      0.259783               0.017840   \n",
       "Passport                           0.002265               0.000377   \n",
       "PitchSatisfactionScore             0.005550              -0.024736   \n",
       "OwnCar                             0.005894               0.006102   \n",
       "NumberOfChildrenVisiting           0.246696               0.024441   \n",
       "MonthlyIncome                    958.027680              58.848919   \n",
       "\n",
       "                          NumberOfTrips  Passport  PitchSatisfactionScore  \\\n",
       "CustomerID                   585.792362  5.111316              -69.092081   \n",
       "ProdTaken                      0.013743  0.046318                0.027440   \n",
       "Age                            3.158372  0.141269                0.235235   \n",
       "CityTier                      -0.050474  0.000747               -0.052778   \n",
       "DurationOfPitch                0.154174  0.128118               -0.033569   \n",
       "NumberOfPersonVisiting         0.261809  0.003680               -0.019386   \n",
       "NumberOfFollowups              0.259783  0.002265                0.005550   \n",
       "PreferredPropertyStar          0.017840  0.000377               -0.024736   \n",
       "NumberOfTrips                  3.418872  0.010882               -0.011035   \n",
       "Passport                       0.010882  0.206326                0.001815   \n",
       "PitchSatisfactionScore        -0.011035  0.001815                1.865387   \n",
       "OwnCar                        -0.010622 -0.004923                0.045641   \n",
       "NumberOfChildrenVisiting       0.267269  0.007898                0.001029   \n",
       "MonthlyIncome               1265.226486  6.230027              223.667867   \n",
       "\n",
       "                              OwnCar  NumberOfChildrenVisiting  MonthlyIncome  \n",
       "CustomerID                  2.606098                620.088972   2.101033e+06  \n",
       "ProdTaken                  -0.002184                  0.002494  -2.760977e+02  \n",
       "Age                         0.220050                  0.058470   2.336518e+04  \n",
       "CityTier                    0.001698                  0.000529   2.559460e+02  \n",
       "DurationOfPitch            -0.006731                  0.229346  -2.891828e+02  \n",
       "NumberOfPersonVisiting      0.003646                  0.380176   7.565188e+02  \n",
       "NumberOfFollowups           0.005894                  0.246696   9.580277e+02  \n",
       "PreferredPropertyStar       0.006102                  0.024441   5.884892e+01  \n",
       "NumberOfTrips              -0.010622                  0.267269   1.265226e+03  \n",
       "Passport                   -0.004923                  0.007898   6.230027e+00  \n",
       "PitchSatisfactionScore      0.045641                  0.001029   2.236679e+02  \n",
       "OwnCar                      0.235577                  0.011073   2.095549e+02  \n",
       "NumberOfChildrenVisiting    0.011073                  0.735926   9.048496e+02  \n",
       "MonthlyIncome             209.554880                904.849579   2.895191e+07  "
      ]
     },
     "execution_count": 14,
     "metadata": {},
     "output_type": "execute_result"
    }
   ],
   "source": [
    "df.cov()"
   ]
  },
  {
   "cell_type": "code",
   "execution_count": 15,
   "id": "981b6473",
   "metadata": {},
   "outputs": [
    {
     "data": {
      "text/plain": [
       "0       200000\n",
       "1       200001\n",
       "2       200002\n",
       "3       200003\n",
       "4       200004\n",
       "         ...  \n",
       "4883    204883\n",
       "4884    204884\n",
       "4885    204885\n",
       "4886    204886\n",
       "4887    204887\n",
       "Name: CustomerID, Length: 4888, dtype: int64"
      ]
     },
     "execution_count": 15,
     "metadata": {},
     "output_type": "execute_result"
    }
   ],
   "source": [
    "df['CustomerID']"
   ]
  },
  {
   "cell_type": "code",
   "execution_count": 16,
   "id": "41d22660",
   "metadata": {},
   "outputs": [
    {
     "data": {
      "text/plain": [
       "dtype('int64')"
      ]
     },
     "execution_count": 16,
     "metadata": {},
     "output_type": "execute_result"
    }
   ],
   "source": [
    "df[\"CustomerID\"].dtypes"
   ]
  },
  {
   "cell_type": "markdown",
   "id": "d27ddfcd",
   "metadata": {},
   "source": [
    "# Separate categorical and numerical columns"
   ]
  },
  {
   "cell_type": "code",
   "execution_count": 17,
   "id": "3e0452b6",
   "metadata": {},
   "outputs": [],
   "source": [
    "cat_col=df.select_dtypes(\"object\")"
   ]
  },
  {
   "cell_type": "code",
   "execution_count": 18,
   "id": "5000a685",
   "metadata": {},
   "outputs": [],
   "source": [
    "num_col=df.select_dtypes(\"number\")"
   ]
  },
  {
   "cell_type": "markdown",
   "id": "7e3cc3e5",
   "metadata": {},
   "source": [
    "cat_col"
   ]
  },
  {
   "cell_type": "code",
   "execution_count": 19,
   "id": "ae74715b",
   "metadata": {},
   "outputs": [
    {
     "data": {
      "text/html": [
       "<div>\n",
       "<style scoped>\n",
       "    .dataframe tbody tr th:only-of-type {\n",
       "        vertical-align: middle;\n",
       "    }\n",
       "\n",
       "    .dataframe tbody tr th {\n",
       "        vertical-align: top;\n",
       "    }\n",
       "\n",
       "    .dataframe thead th {\n",
       "        text-align: right;\n",
       "    }\n",
       "</style>\n",
       "<table border=\"1\" class=\"dataframe\">\n",
       "  <thead>\n",
       "    <tr style=\"text-align: right;\">\n",
       "      <th></th>\n",
       "      <th>TypeofContact</th>\n",
       "      <th>Occupation</th>\n",
       "      <th>Gender</th>\n",
       "      <th>ProductPitched</th>\n",
       "      <th>MaritalStatus</th>\n",
       "      <th>Designation</th>\n",
       "    </tr>\n",
       "  </thead>\n",
       "  <tbody>\n",
       "    <tr>\n",
       "      <th>0</th>\n",
       "      <td>Self Enquiry</td>\n",
       "      <td>Salaried</td>\n",
       "      <td>Female</td>\n",
       "      <td>Deluxe</td>\n",
       "      <td>Single</td>\n",
       "      <td>Manager</td>\n",
       "    </tr>\n",
       "    <tr>\n",
       "      <th>1</th>\n",
       "      <td>Company Invited</td>\n",
       "      <td>Salaried</td>\n",
       "      <td>Male</td>\n",
       "      <td>Deluxe</td>\n",
       "      <td>Divorced</td>\n",
       "      <td>Manager</td>\n",
       "    </tr>\n",
       "    <tr>\n",
       "      <th>2</th>\n",
       "      <td>Self Enquiry</td>\n",
       "      <td>Free Lancer</td>\n",
       "      <td>Male</td>\n",
       "      <td>Basic</td>\n",
       "      <td>Single</td>\n",
       "      <td>Executive</td>\n",
       "    </tr>\n",
       "    <tr>\n",
       "      <th>3</th>\n",
       "      <td>Company Invited</td>\n",
       "      <td>Salaried</td>\n",
       "      <td>Female</td>\n",
       "      <td>Basic</td>\n",
       "      <td>Divorced</td>\n",
       "      <td>Executive</td>\n",
       "    </tr>\n",
       "    <tr>\n",
       "      <th>4</th>\n",
       "      <td>Self Enquiry</td>\n",
       "      <td>Small Business</td>\n",
       "      <td>Male</td>\n",
       "      <td>Basic</td>\n",
       "      <td>Divorced</td>\n",
       "      <td>Executive</td>\n",
       "    </tr>\n",
       "  </tbody>\n",
       "</table>\n",
       "</div>"
      ],
      "text/plain": [
       "     TypeofContact      Occupation  Gender ProductPitched MaritalStatus  \\\n",
       "0     Self Enquiry        Salaried  Female         Deluxe        Single   \n",
       "1  Company Invited        Salaried    Male         Deluxe      Divorced   \n",
       "2     Self Enquiry     Free Lancer    Male          Basic        Single   \n",
       "3  Company Invited        Salaried  Female          Basic      Divorced   \n",
       "4     Self Enquiry  Small Business    Male          Basic      Divorced   \n",
       "\n",
       "  Designation  \n",
       "0     Manager  \n",
       "1     Manager  \n",
       "2   Executive  \n",
       "3   Executive  \n",
       "4   Executive  "
      ]
     },
     "execution_count": 19,
     "metadata": {},
     "output_type": "execute_result"
    }
   ],
   "source": [
    "cat_col.head()"
   ]
  },
  {
   "cell_type": "code",
   "execution_count": 20,
   "id": "c8f05e16",
   "metadata": {},
   "outputs": [
    {
     "data": {
      "text/html": [
       "<div>\n",
       "<style scoped>\n",
       "    .dataframe tbody tr th:only-of-type {\n",
       "        vertical-align: middle;\n",
       "    }\n",
       "\n",
       "    .dataframe tbody tr th {\n",
       "        vertical-align: top;\n",
       "    }\n",
       "\n",
       "    .dataframe thead th {\n",
       "        text-align: right;\n",
       "    }\n",
       "</style>\n",
       "<table border=\"1\" class=\"dataframe\">\n",
       "  <thead>\n",
       "    <tr style=\"text-align: right;\">\n",
       "      <th></th>\n",
       "      <th>CustomerID</th>\n",
       "      <th>ProdTaken</th>\n",
       "      <th>Age</th>\n",
       "      <th>CityTier</th>\n",
       "      <th>DurationOfPitch</th>\n",
       "      <th>NumberOfPersonVisiting</th>\n",
       "      <th>NumberOfFollowups</th>\n",
       "      <th>PreferredPropertyStar</th>\n",
       "      <th>NumberOfTrips</th>\n",
       "      <th>Passport</th>\n",
       "      <th>PitchSatisfactionScore</th>\n",
       "      <th>OwnCar</th>\n",
       "      <th>NumberOfChildrenVisiting</th>\n",
       "      <th>MonthlyIncome</th>\n",
       "    </tr>\n",
       "  </thead>\n",
       "  <tbody>\n",
       "    <tr>\n",
       "      <th>0</th>\n",
       "      <td>200000</td>\n",
       "      <td>1</td>\n",
       "      <td>41.0</td>\n",
       "      <td>3</td>\n",
       "      <td>6.0</td>\n",
       "      <td>3</td>\n",
       "      <td>3.0</td>\n",
       "      <td>3.0</td>\n",
       "      <td>1.0</td>\n",
       "      <td>1</td>\n",
       "      <td>2</td>\n",
       "      <td>1</td>\n",
       "      <td>0.0</td>\n",
       "      <td>20993.0</td>\n",
       "    </tr>\n",
       "    <tr>\n",
       "      <th>1</th>\n",
       "      <td>200001</td>\n",
       "      <td>0</td>\n",
       "      <td>49.0</td>\n",
       "      <td>1</td>\n",
       "      <td>14.0</td>\n",
       "      <td>3</td>\n",
       "      <td>4.0</td>\n",
       "      <td>4.0</td>\n",
       "      <td>2.0</td>\n",
       "      <td>0</td>\n",
       "      <td>3</td>\n",
       "      <td>1</td>\n",
       "      <td>2.0</td>\n",
       "      <td>20130.0</td>\n",
       "    </tr>\n",
       "    <tr>\n",
       "      <th>2</th>\n",
       "      <td>200002</td>\n",
       "      <td>1</td>\n",
       "      <td>37.0</td>\n",
       "      <td>1</td>\n",
       "      <td>8.0</td>\n",
       "      <td>3</td>\n",
       "      <td>4.0</td>\n",
       "      <td>3.0</td>\n",
       "      <td>7.0</td>\n",
       "      <td>1</td>\n",
       "      <td>3</td>\n",
       "      <td>0</td>\n",
       "      <td>0.0</td>\n",
       "      <td>17090.0</td>\n",
       "    </tr>\n",
       "    <tr>\n",
       "      <th>3</th>\n",
       "      <td>200003</td>\n",
       "      <td>0</td>\n",
       "      <td>33.0</td>\n",
       "      <td>1</td>\n",
       "      <td>9.0</td>\n",
       "      <td>2</td>\n",
       "      <td>3.0</td>\n",
       "      <td>3.0</td>\n",
       "      <td>2.0</td>\n",
       "      <td>1</td>\n",
       "      <td>5</td>\n",
       "      <td>1</td>\n",
       "      <td>1.0</td>\n",
       "      <td>17909.0</td>\n",
       "    </tr>\n",
       "    <tr>\n",
       "      <th>4</th>\n",
       "      <td>200004</td>\n",
       "      <td>0</td>\n",
       "      <td>NaN</td>\n",
       "      <td>1</td>\n",
       "      <td>8.0</td>\n",
       "      <td>2</td>\n",
       "      <td>3.0</td>\n",
       "      <td>4.0</td>\n",
       "      <td>1.0</td>\n",
       "      <td>0</td>\n",
       "      <td>5</td>\n",
       "      <td>1</td>\n",
       "      <td>0.0</td>\n",
       "      <td>18468.0</td>\n",
       "    </tr>\n",
       "  </tbody>\n",
       "</table>\n",
       "</div>"
      ],
      "text/plain": [
       "   CustomerID  ProdTaken   Age  CityTier  DurationOfPitch  \\\n",
       "0      200000          1  41.0         3              6.0   \n",
       "1      200001          0  49.0         1             14.0   \n",
       "2      200002          1  37.0         1              8.0   \n",
       "3      200003          0  33.0         1              9.0   \n",
       "4      200004          0   NaN         1              8.0   \n",
       "\n",
       "   NumberOfPersonVisiting  NumberOfFollowups  PreferredPropertyStar  \\\n",
       "0                       3                3.0                    3.0   \n",
       "1                       3                4.0                    4.0   \n",
       "2                       3                4.0                    3.0   \n",
       "3                       2                3.0                    3.0   \n",
       "4                       2                3.0                    4.0   \n",
       "\n",
       "   NumberOfTrips  Passport  PitchSatisfactionScore  OwnCar  \\\n",
       "0            1.0         1                       2       1   \n",
       "1            2.0         0                       3       1   \n",
       "2            7.0         1                       3       0   \n",
       "3            2.0         1                       5       1   \n",
       "4            1.0         0                       5       1   \n",
       "\n",
       "   NumberOfChildrenVisiting  MonthlyIncome  \n",
       "0                       0.0        20993.0  \n",
       "1                       2.0        20130.0  \n",
       "2                       0.0        17090.0  \n",
       "3                       1.0        17909.0  \n",
       "4                       0.0        18468.0  "
      ]
     },
     "execution_count": 20,
     "metadata": {},
     "output_type": "execute_result"
    }
   ],
   "source": [
    "num_col.head()"
   ]
  },
  {
   "cell_type": "markdown",
   "id": "f84bb9dc",
   "metadata": {},
   "source": [
    "# Finding missing values"
   ]
  },
  {
   "cell_type": "code",
   "execution_count": 21,
   "id": "26b201e9",
   "metadata": {},
   "outputs": [
    {
     "data": {
      "text/plain": [
       "CustomerID                    0\n",
       "ProdTaken                     0\n",
       "Age                         226\n",
       "TypeofContact                25\n",
       "CityTier                      0\n",
       "DurationOfPitch             251\n",
       "Occupation                    0\n",
       "Gender                        0\n",
       "NumberOfPersonVisiting        0\n",
       "NumberOfFollowups            45\n",
       "ProductPitched                0\n",
       "PreferredPropertyStar        26\n",
       "MaritalStatus                 0\n",
       "NumberOfTrips               140\n",
       "Passport                      0\n",
       "PitchSatisfactionScore        0\n",
       "OwnCar                        0\n",
       "NumberOfChildrenVisiting     66\n",
       "Designation                   0\n",
       "MonthlyIncome               233\n",
       "dtype: int64"
      ]
     },
     "execution_count": 21,
     "metadata": {},
     "output_type": "execute_result"
    }
   ],
   "source": [
    "df.isnull().sum()"
   ]
  },
  {
   "cell_type": "code",
   "execution_count": 22,
   "id": "372b0bbf",
   "metadata": {},
   "outputs": [
    {
     "data": {
      "text/plain": [
       "1012"
      ]
     },
     "execution_count": 22,
     "metadata": {},
     "output_type": "execute_result"
    }
   ],
   "source": [
    "df.isnull().sum().sum()"
   ]
  },
  {
   "cell_type": "code",
   "execution_count": 23,
   "id": "d5e31488",
   "metadata": {},
   "outputs": [
    {
     "data": {
      "text/html": [
       "<div>\n",
       "<style scoped>\n",
       "    .dataframe tbody tr th:only-of-type {\n",
       "        vertical-align: middle;\n",
       "    }\n",
       "\n",
       "    .dataframe tbody tr th {\n",
       "        vertical-align: top;\n",
       "    }\n",
       "\n",
       "    .dataframe thead th {\n",
       "        text-align: right;\n",
       "    }\n",
       "</style>\n",
       "<table border=\"1\" class=\"dataframe\">\n",
       "  <thead>\n",
       "    <tr style=\"text-align: right;\">\n",
       "      <th></th>\n",
       "      <th>CustomerID</th>\n",
       "      <th>ProdTaken</th>\n",
       "      <th>Age</th>\n",
       "      <th>TypeofContact</th>\n",
       "      <th>CityTier</th>\n",
       "      <th>DurationOfPitch</th>\n",
       "      <th>Occupation</th>\n",
       "      <th>Gender</th>\n",
       "      <th>NumberOfPersonVisiting</th>\n",
       "      <th>NumberOfFollowups</th>\n",
       "      <th>ProductPitched</th>\n",
       "      <th>PreferredPropertyStar</th>\n",
       "      <th>MaritalStatus</th>\n",
       "      <th>NumberOfTrips</th>\n",
       "      <th>Passport</th>\n",
       "      <th>PitchSatisfactionScore</th>\n",
       "      <th>OwnCar</th>\n",
       "      <th>NumberOfChildrenVisiting</th>\n",
       "      <th>Designation</th>\n",
       "      <th>MonthlyIncome</th>\n",
       "    </tr>\n",
       "  </thead>\n",
       "  <tbody>\n",
       "    <tr>\n",
       "      <th>0</th>\n",
       "      <td>200000</td>\n",
       "      <td>1</td>\n",
       "      <td>41.0</td>\n",
       "      <td>Self Enquiry</td>\n",
       "      <td>3</td>\n",
       "      <td>6.0</td>\n",
       "      <td>Salaried</td>\n",
       "      <td>Female</td>\n",
       "      <td>3</td>\n",
       "      <td>3.0</td>\n",
       "      <td>Deluxe</td>\n",
       "      <td>3.0</td>\n",
       "      <td>Single</td>\n",
       "      <td>1.0</td>\n",
       "      <td>1</td>\n",
       "      <td>2</td>\n",
       "      <td>1</td>\n",
       "      <td>0.0</td>\n",
       "      <td>Manager</td>\n",
       "      <td>20993.0</td>\n",
       "    </tr>\n",
       "    <tr>\n",
       "      <th>1</th>\n",
       "      <td>200001</td>\n",
       "      <td>0</td>\n",
       "      <td>49.0</td>\n",
       "      <td>Company Invited</td>\n",
       "      <td>1</td>\n",
       "      <td>14.0</td>\n",
       "      <td>Salaried</td>\n",
       "      <td>Male</td>\n",
       "      <td>3</td>\n",
       "      <td>4.0</td>\n",
       "      <td>Deluxe</td>\n",
       "      <td>4.0</td>\n",
       "      <td>Divorced</td>\n",
       "      <td>2.0</td>\n",
       "      <td>0</td>\n",
       "      <td>3</td>\n",
       "      <td>1</td>\n",
       "      <td>2.0</td>\n",
       "      <td>Manager</td>\n",
       "      <td>20130.0</td>\n",
       "    </tr>\n",
       "    <tr>\n",
       "      <th>2</th>\n",
       "      <td>200002</td>\n",
       "      <td>1</td>\n",
       "      <td>37.0</td>\n",
       "      <td>Self Enquiry</td>\n",
       "      <td>1</td>\n",
       "      <td>8.0</td>\n",
       "      <td>Free Lancer</td>\n",
       "      <td>Male</td>\n",
       "      <td>3</td>\n",
       "      <td>4.0</td>\n",
       "      <td>Basic</td>\n",
       "      <td>3.0</td>\n",
       "      <td>Single</td>\n",
       "      <td>7.0</td>\n",
       "      <td>1</td>\n",
       "      <td>3</td>\n",
       "      <td>0</td>\n",
       "      <td>0.0</td>\n",
       "      <td>Executive</td>\n",
       "      <td>17090.0</td>\n",
       "    </tr>\n",
       "    <tr>\n",
       "      <th>3</th>\n",
       "      <td>200003</td>\n",
       "      <td>0</td>\n",
       "      <td>33.0</td>\n",
       "      <td>Company Invited</td>\n",
       "      <td>1</td>\n",
       "      <td>9.0</td>\n",
       "      <td>Salaried</td>\n",
       "      <td>Female</td>\n",
       "      <td>2</td>\n",
       "      <td>3.0</td>\n",
       "      <td>Basic</td>\n",
       "      <td>3.0</td>\n",
       "      <td>Divorced</td>\n",
       "      <td>2.0</td>\n",
       "      <td>1</td>\n",
       "      <td>5</td>\n",
       "      <td>1</td>\n",
       "      <td>1.0</td>\n",
       "      <td>Executive</td>\n",
       "      <td>17909.0</td>\n",
       "    </tr>\n",
       "    <tr>\n",
       "      <th>4</th>\n",
       "      <td>200004</td>\n",
       "      <td>0</td>\n",
       "      <td>NaN</td>\n",
       "      <td>Self Enquiry</td>\n",
       "      <td>1</td>\n",
       "      <td>8.0</td>\n",
       "      <td>Small Business</td>\n",
       "      <td>Male</td>\n",
       "      <td>2</td>\n",
       "      <td>3.0</td>\n",
       "      <td>Basic</td>\n",
       "      <td>4.0</td>\n",
       "      <td>Divorced</td>\n",
       "      <td>1.0</td>\n",
       "      <td>0</td>\n",
       "      <td>5</td>\n",
       "      <td>1</td>\n",
       "      <td>0.0</td>\n",
       "      <td>Executive</td>\n",
       "      <td>18468.0</td>\n",
       "    </tr>\n",
       "  </tbody>\n",
       "</table>\n",
       "</div>"
      ],
      "text/plain": [
       "   CustomerID  ProdTaken   Age    TypeofContact  CityTier  DurationOfPitch  \\\n",
       "0      200000          1  41.0     Self Enquiry         3              6.0   \n",
       "1      200001          0  49.0  Company Invited         1             14.0   \n",
       "2      200002          1  37.0     Self Enquiry         1              8.0   \n",
       "3      200003          0  33.0  Company Invited         1              9.0   \n",
       "4      200004          0   NaN     Self Enquiry         1              8.0   \n",
       "\n",
       "       Occupation  Gender  NumberOfPersonVisiting  NumberOfFollowups  \\\n",
       "0        Salaried  Female                       3                3.0   \n",
       "1        Salaried    Male                       3                4.0   \n",
       "2     Free Lancer    Male                       3                4.0   \n",
       "3        Salaried  Female                       2                3.0   \n",
       "4  Small Business    Male                       2                3.0   \n",
       "\n",
       "  ProductPitched  PreferredPropertyStar MaritalStatus  NumberOfTrips  \\\n",
       "0         Deluxe                    3.0        Single            1.0   \n",
       "1         Deluxe                    4.0      Divorced            2.0   \n",
       "2          Basic                    3.0        Single            7.0   \n",
       "3          Basic                    3.0      Divorced            2.0   \n",
       "4          Basic                    4.0      Divorced            1.0   \n",
       "\n",
       "   Passport  PitchSatisfactionScore  OwnCar  NumberOfChildrenVisiting  \\\n",
       "0         1                       2       1                       0.0   \n",
       "1         0                       3       1                       2.0   \n",
       "2         1                       3       0                       0.0   \n",
       "3         1                       5       1                       1.0   \n",
       "4         0                       5       1                       0.0   \n",
       "\n",
       "  Designation  MonthlyIncome  \n",
       "0     Manager        20993.0  \n",
       "1     Manager        20130.0  \n",
       "2   Executive        17090.0  \n",
       "3   Executive        17909.0  \n",
       "4   Executive        18468.0  "
      ]
     },
     "execution_count": 23,
     "metadata": {},
     "output_type": "execute_result"
    }
   ],
   "source": [
    "df.head()"
   ]
  },
  {
   "cell_type": "markdown",
   "id": "80d8b134",
   "metadata": {},
   "source": [
    "# Handle Age missing value with mean"
   ]
  },
  {
   "cell_type": "code",
   "execution_count": 28,
   "id": "c5310efb",
   "metadata": {},
   "outputs": [
    {
     "name": "stderr",
     "output_type": "stream",
     "text": [
      "C:\\Users\\HP\\Anaconda3\\envs\\Practice\\lib\\site-packages\\seaborn\\distributions.py:2619: FutureWarning: `distplot` is a deprecated function and will be removed in a future version. Please adapt your code to use either `displot` (a figure-level function with similar flexibility) or `histplot` (an axes-level function for histograms).\n",
      "  warnings.warn(msg, FutureWarning)\n"
     ]
    },
    {
     "data": {
      "text/plain": [
       "<AxesSubplot: xlabel='Age', ylabel='Density'>"
      ]
     },
     "execution_count": 28,
     "metadata": {},
     "output_type": "execute_result"
    },
    {
     "data": {
      "image/png": "[encoded data removed]",
      "text/plain": [
       "<Figure size 640x480 with 1 Axes>"
      ]
     },
     "metadata": {},
     "output_type": "display_data"
    }
   ],
   "source": [
    "sns.distplot(df['Age'])"
   ]
  },
  {
   "cell_type": "code",
   "execution_count": 25,
   "id": "6fcdd4bc",
   "metadata": {},
   "outputs": [],
   "source": [
    "df['Age']=df['Age'].fillna(df['Age'].mean())"
   ]
  },
  {
   "cell_type": "code",
   "execution_count": 27,
   "id": "13e4c607",
   "metadata": {},
   "outputs": [
    {
     "data": {
      "text/plain": [
       "0"
      ]
     },
     "execution_count": 27,
     "metadata": {},
     "output_type": "execute_result"
    }
   ],
   "source": [
    "df['Age'].isnull().sum()"
   ]
  },
  {
   "cell_type": "code",
   "execution_count": 34,
   "id": "0a56db5c",
   "metadata": {},
   "outputs": [
    {
     "data": {
      "text/plain": [
       "0    41.000000\n",
       "1    49.000000\n",
       "2    37.000000\n",
       "3    33.000000\n",
       "4    37.622265\n",
       "Name: Age, dtype: float64"
      ]
     },
     "execution_count": 34,
     "metadata": {},
     "output_type": "execute_result"
    }
   ],
   "source": [
    "df[\"Age\"].head()"
   ]
  },
  {
   "cell_type": "markdown",
   "id": "0e331195",
   "metadata": {},
   "source": [
    "# 1 Missing value TypeofContact\t"
   ]
  },
  {
   "cell_type": "code",
   "execution_count": 35,
   "id": "ec016017",
   "metadata": {},
   "outputs": [],
   "source": [
    "df[\"TypeofContact\"]=df[\"TypeofContact\"].fillna(df[\"TypeofContact\"].mode()[0])"
   ]
  },
  {
   "cell_type": "code",
   "execution_count": 36,
   "id": "b1fdcb45",
   "metadata": {},
   "outputs": [
    {
     "data": {
      "text/plain": [
       "0"
      ]
     },
     "execution_count": 36,
     "metadata": {},
     "output_type": "execute_result"
    }
   ],
   "source": [
    "df[\"TypeofContact\"].isnull().sum()"
   ]
  },
  {
   "cell_type": "markdown",
   "id": "d85f7b31",
   "metadata": {},
   "source": [
    "#  Missing value DurationOfPitch"
   ]
  },
  {
   "cell_type": "code",
   "execution_count": 37,
   "id": "18cfdb59",
   "metadata": {},
   "outputs": [
    {
     "name": "stderr",
     "output_type": "stream",
     "text": [
      "C:\\Users\\HP\\Anaconda3\\envs\\Practice\\lib\\site-packages\\seaborn\\distributions.py:2619: FutureWarning: `distplot` is a deprecated function and will be removed in a future version. Please adapt your code to use either `displot` (a figure-level function with similar flexibility) or `histplot` (an axes-level function for histograms).\n",
      "  warnings.warn(msg, FutureWarning)\n"
     ]
    },
    {
     "data": {
      "text/plain": [
       "<AxesSubplot: xlabel='DurationOfPitch', ylabel='Density'>"
      ]
     },
     "execution_count": 37,
     "metadata": {},
     "output_type": "execute_result"
    },
    {
     "data": {
      "image/png": "[encoded data removed]",
      "text/plain": [
       "<Figure size 640x480 with 1 Axes>"
      ]
     },
     "metadata": {},
     "output_type": "display_data"
    }
   ],
   "source": [
    "\n",
    "\n",
    "sns.distplot(df['DurationOfPitch'])"
   ]
  },
  {
   "cell_type": "code",
   "execution_count": 38,
   "id": "f688ce06",
   "metadata": {},
   "outputs": [],
   "source": [
    "df['DurationOfPitch']=df['DurationOfPitch'].fillna(df['DurationOfPitch'].median())"
   ]
  },
  {
   "cell_type": "code",
   "execution_count": 39,
   "id": "dad8773f",
   "metadata": {},
   "outputs": [
    {
     "data": {
      "text/plain": [
       "0"
      ]
     },
     "execution_count": 39,
     "metadata": {},
     "output_type": "execute_result"
    }
   ],
   "source": [
    "df['DurationOfPitch'].isnull().sum()"
   ]
  },
  {
   "cell_type": "markdown",
   "id": "ba0755d4",
   "metadata": {},
   "source": [
    "# Filling Missing value of NumberOfTrips "
   ]
  },
  {
   "cell_type": "code",
   "execution_count": 51,
   "id": "57a11e21",
   "metadata": {},
   "outputs": [
    {
     "name": "stderr",
     "output_type": "stream",
     "text": [
      "C:\\Users\\HP\\Anaconda3\\envs\\Practice\\lib\\site-packages\\seaborn\\distributions.py:2619: FutureWarning: `distplot` is a deprecated function and will be removed in a future version. Please adapt your code to use either `displot` (a figure-level function with similar flexibility) or `histplot` (an axes-level function for histograms).\n",
      "  warnings.warn(msg, FutureWarning)\n"
     ]
    },
    {
     "data": {
      "text/plain": [
       "<AxesSubplot: xlabel='NumberOfTrips', ylabel='Density'>"
      ]
     },
     "execution_count": 51,
     "metadata": {},
     "output_type": "execute_result"
    },
    {
     "data": {
      "image/png": "[encoded data removed]",
      "text/plain": [
       "<Figure size 640x480 with 1 Axes>"
      ]
     },
     "metadata": {},
     "output_type": "display_data"
    }
   ],
   "source": [
    "sns.distplot(df['NumberOfTrips'])"
   ]
  },
  {
   "cell_type": "code",
   "execution_count": 54,
   "id": "104198f6",
   "metadata": {},
   "outputs": [],
   "source": [
    "df['NumberOfTrips']=df['NumberOfTrips'].fillna(df['NumberOfTrips'].median())"
   ]
  },
  {
   "cell_type": "code",
   "execution_count": 55,
   "id": "da4b6b97",
   "metadata": {},
   "outputs": [
    {
     "data": {
      "text/plain": [
       "0"
      ]
     },
     "execution_count": 55,
     "metadata": {},
     "output_type": "execute_result"
    }
   ],
   "source": [
    "df['NumberOfTrips'].isnull().sum()"
   ]
  },
  {
   "cell_type": "code",
   "execution_count": 56,
   "id": "68aaee14",
   "metadata": {},
   "outputs": [
    {
     "data": {
      "text/html": [
       "<div>\n",
       "<style scoped>\n",
       "    .dataframe tbody tr th:only-of-type {\n",
       "        vertical-align: middle;\n",
       "    }\n",
       "\n",
       "    .dataframe tbody tr th {\n",
       "        vertical-align: top;\n",
       "    }\n",
       "\n",
       "    .dataframe thead th {\n",
       "        text-align: right;\n",
       "    }\n",
       "</style>\n",
       "<table border=\"1\" class=\"dataframe\">\n",
       "  <thead>\n",
       "    <tr style=\"text-align: right;\">\n",
       "      <th></th>\n",
       "      <th>CustomerID</th>\n",
       "      <th>ProdTaken</th>\n",
       "      <th>Age</th>\n",
       "      <th>TypeofContact</th>\n",
       "      <th>CityTier</th>\n",
       "      <th>DurationOfPitch</th>\n",
       "      <th>Occupation</th>\n",
       "      <th>Gender</th>\n",
       "      <th>NumberOfPersonVisiting</th>\n",
       "      <th>NumberOfFollowups</th>\n",
       "      <th>...</th>\n",
       "      <th>PreferredPropertyStar</th>\n",
       "      <th>MaritalStatus</th>\n",
       "      <th>NumberOfTrips</th>\n",
       "      <th>Passport</th>\n",
       "      <th>PitchSatisfactionScore</th>\n",
       "      <th>OwnCar</th>\n",
       "      <th>NumberOfChildrenVisiting</th>\n",
       "      <th>Designation</th>\n",
       "      <th>MonthlyIncome</th>\n",
       "      <th>NumberOfTrips</th>\n",
       "    </tr>\n",
       "  </thead>\n",
       "  <tbody>\n",
       "    <tr>\n",
       "      <th>0</th>\n",
       "      <td>200000</td>\n",
       "      <td>1</td>\n",
       "      <td>41.000000</td>\n",
       "      <td>Self Enquiry</td>\n",
       "      <td>3</td>\n",
       "      <td>6.0</td>\n",
       "      <td>Salaried</td>\n",
       "      <td>Female</td>\n",
       "      <td>3</td>\n",
       "      <td>3.0</td>\n",
       "      <td>...</td>\n",
       "      <td>3.0</td>\n",
       "      <td>Single</td>\n",
       "      <td>1.0</td>\n",
       "      <td>1</td>\n",
       "      <td>2</td>\n",
       "      <td>1</td>\n",
       "      <td>0.0</td>\n",
       "      <td>Manager</td>\n",
       "      <td>20993.0</td>\n",
       "      <td>1.0</td>\n",
       "    </tr>\n",
       "    <tr>\n",
       "      <th>1</th>\n",
       "      <td>200001</td>\n",
       "      <td>0</td>\n",
       "      <td>49.000000</td>\n",
       "      <td>Company Invited</td>\n",
       "      <td>1</td>\n",
       "      <td>14.0</td>\n",
       "      <td>Salaried</td>\n",
       "      <td>Male</td>\n",
       "      <td>3</td>\n",
       "      <td>4.0</td>\n",
       "      <td>...</td>\n",
       "      <td>4.0</td>\n",
       "      <td>Divorced</td>\n",
       "      <td>2.0</td>\n",
       "      <td>0</td>\n",
       "      <td>3</td>\n",
       "      <td>1</td>\n",
       "      <td>2.0</td>\n",
       "      <td>Manager</td>\n",
       "      <td>20130.0</td>\n",
       "      <td>2.0</td>\n",
       "    </tr>\n",
       "    <tr>\n",
       "      <th>2</th>\n",
       "      <td>200002</td>\n",
       "      <td>1</td>\n",
       "      <td>37.000000</td>\n",
       "      <td>Self Enquiry</td>\n",
       "      <td>1</td>\n",
       "      <td>8.0</td>\n",
       "      <td>Free Lancer</td>\n",
       "      <td>Male</td>\n",
       "      <td>3</td>\n",
       "      <td>4.0</td>\n",
       "      <td>...</td>\n",
       "      <td>3.0</td>\n",
       "      <td>Single</td>\n",
       "      <td>7.0</td>\n",
       "      <td>1</td>\n",
       "      <td>3</td>\n",
       "      <td>0</td>\n",
       "      <td>0.0</td>\n",
       "      <td>Executive</td>\n",
       "      <td>17090.0</td>\n",
       "      <td>7.0</td>\n",
       "    </tr>\n",
       "    <tr>\n",
       "      <th>3</th>\n",
       "      <td>200003</td>\n",
       "      <td>0</td>\n",
       "      <td>33.000000</td>\n",
       "      <td>Company Invited</td>\n",
       "      <td>1</td>\n",
       "      <td>9.0</td>\n",
       "      <td>Salaried</td>\n",
       "      <td>Female</td>\n",
       "      <td>2</td>\n",
       "      <td>3.0</td>\n",
       "      <td>...</td>\n",
       "      <td>3.0</td>\n",
       "      <td>Divorced</td>\n",
       "      <td>2.0</td>\n",
       "      <td>1</td>\n",
       "      <td>5</td>\n",
       "      <td>1</td>\n",
       "      <td>1.0</td>\n",
       "      <td>Executive</td>\n",
       "      <td>17909.0</td>\n",
       "      <td>2.0</td>\n",
       "    </tr>\n",
       "    <tr>\n",
       "      <th>4</th>\n",
       "      <td>200004</td>\n",
       "      <td>0</td>\n",
       "      <td>37.622265</td>\n",
       "      <td>Self Enquiry</td>\n",
       "      <td>1</td>\n",
       "      <td>8.0</td>\n",
       "      <td>Small Business</td>\n",
       "      <td>Male</td>\n",
       "      <td>2</td>\n",
       "      <td>3.0</td>\n",
       "      <td>...</td>\n",
       "      <td>4.0</td>\n",
       "      <td>Divorced</td>\n",
       "      <td>1.0</td>\n",
       "      <td>0</td>\n",
       "      <td>5</td>\n",
       "      <td>1</td>\n",
       "      <td>0.0</td>\n",
       "      <td>Executive</td>\n",
       "      <td>18468.0</td>\n",
       "      <td>1.0</td>\n",
       "    </tr>\n",
       "    <tr>\n",
       "      <th>...</th>\n",
       "      <td>...</td>\n",
       "      <td>...</td>\n",
       "      <td>...</td>\n",
       "      <td>...</td>\n",
       "      <td>...</td>\n",
       "      <td>...</td>\n",
       "      <td>...</td>\n",
       "      <td>...</td>\n",
       "      <td>...</td>\n",
       "      <td>...</td>\n",
       "      <td>...</td>\n",
       "      <td>...</td>\n",
       "      <td>...</td>\n",
       "      <td>...</td>\n",
       "      <td>...</td>\n",
       "      <td>...</td>\n",
       "      <td>...</td>\n",
       "      <td>...</td>\n",
       "      <td>...</td>\n",
       "      <td>...</td>\n",
       "      <td>...</td>\n",
       "    </tr>\n",
       "    <tr>\n",
       "      <th>4883</th>\n",
       "      <td>204883</td>\n",
       "      <td>1</td>\n",
       "      <td>49.000000</td>\n",
       "      <td>Self Enquiry</td>\n",
       "      <td>3</td>\n",
       "      <td>9.0</td>\n",
       "      <td>Small Business</td>\n",
       "      <td>Male</td>\n",
       "      <td>3</td>\n",
       "      <td>5.0</td>\n",
       "      <td>...</td>\n",
       "      <td>4.0</td>\n",
       "      <td>Unmarried</td>\n",
       "      <td>2.0</td>\n",
       "      <td>1</td>\n",
       "      <td>1</td>\n",
       "      <td>1</td>\n",
       "      <td>1.0</td>\n",
       "      <td>Manager</td>\n",
       "      <td>26576.0</td>\n",
       "      <td>2.0</td>\n",
       "    </tr>\n",
       "    <tr>\n",
       "      <th>4884</th>\n",
       "      <td>204884</td>\n",
       "      <td>1</td>\n",
       "      <td>28.000000</td>\n",
       "      <td>Company Invited</td>\n",
       "      <td>1</td>\n",
       "      <td>31.0</td>\n",
       "      <td>Salaried</td>\n",
       "      <td>Male</td>\n",
       "      <td>4</td>\n",
       "      <td>5.0</td>\n",
       "      <td>...</td>\n",
       "      <td>3.0</td>\n",
       "      <td>Single</td>\n",
       "      <td>3.0</td>\n",
       "      <td>1</td>\n",
       "      <td>3</td>\n",
       "      <td>1</td>\n",
       "      <td>2.0</td>\n",
       "      <td>Executive</td>\n",
       "      <td>21212.0</td>\n",
       "      <td>3.0</td>\n",
       "    </tr>\n",
       "    <tr>\n",
       "      <th>4885</th>\n",
       "      <td>204885</td>\n",
       "      <td>1</td>\n",
       "      <td>52.000000</td>\n",
       "      <td>Self Enquiry</td>\n",
       "      <td>3</td>\n",
       "      <td>17.0</td>\n",
       "      <td>Salaried</td>\n",
       "      <td>Female</td>\n",
       "      <td>4</td>\n",
       "      <td>4.0</td>\n",
       "      <td>...</td>\n",
       "      <td>4.0</td>\n",
       "      <td>Married</td>\n",
       "      <td>7.0</td>\n",
       "      <td>0</td>\n",
       "      <td>1</td>\n",
       "      <td>1</td>\n",
       "      <td>3.0</td>\n",
       "      <td>Senior Manager</td>\n",
       "      <td>31820.0</td>\n",
       "      <td>7.0</td>\n",
       "    </tr>\n",
       "    <tr>\n",
       "      <th>4886</th>\n",
       "      <td>204886</td>\n",
       "      <td>1</td>\n",
       "      <td>19.000000</td>\n",
       "      <td>Self Enquiry</td>\n",
       "      <td>3</td>\n",
       "      <td>16.0</td>\n",
       "      <td>Small Business</td>\n",
       "      <td>Male</td>\n",
       "      <td>3</td>\n",
       "      <td>4.0</td>\n",
       "      <td>...</td>\n",
       "      <td>3.0</td>\n",
       "      <td>Single</td>\n",
       "      <td>3.0</td>\n",
       "      <td>0</td>\n",
       "      <td>5</td>\n",
       "      <td>0</td>\n",
       "      <td>2.0</td>\n",
       "      <td>Executive</td>\n",
       "      <td>20289.0</td>\n",
       "      <td>3.0</td>\n",
       "    </tr>\n",
       "    <tr>\n",
       "      <th>4887</th>\n",
       "      <td>204887</td>\n",
       "      <td>1</td>\n",
       "      <td>36.000000</td>\n",
       "      <td>Self Enquiry</td>\n",
       "      <td>1</td>\n",
       "      <td>14.0</td>\n",
       "      <td>Salaried</td>\n",
       "      <td>Male</td>\n",
       "      <td>4</td>\n",
       "      <td>4.0</td>\n",
       "      <td>...</td>\n",
       "      <td>4.0</td>\n",
       "      <td>Unmarried</td>\n",
       "      <td>3.0</td>\n",
       "      <td>1</td>\n",
       "      <td>3</td>\n",
       "      <td>1</td>\n",
       "      <td>2.0</td>\n",
       "      <td>Executive</td>\n",
       "      <td>24041.0</td>\n",
       "      <td>3.0</td>\n",
       "    </tr>\n",
       "  </tbody>\n",
       "</table>\n",
       "<p>4888 rows × 21 columns</p>\n",
       "</div>"
      ],
      "text/plain": [
       "      CustomerID  ProdTaken        Age    TypeofContact  CityTier  \\\n",
       "0         200000          1  41.000000     Self Enquiry         3   \n",
       "1         200001          0  49.000000  Company Invited         1   \n",
       "2         200002          1  37.000000     Self Enquiry         1   \n",
       "3         200003          0  33.000000  Company Invited         1   \n",
       "4         200004          0  37.622265     Self Enquiry         1   \n",
       "...          ...        ...        ...              ...       ...   \n",
       "4883      204883          1  49.000000     Self Enquiry         3   \n",
       "4884      204884          1  28.000000  Company Invited         1   \n",
       "4885      204885          1  52.000000     Self Enquiry         3   \n",
       "4886      204886          1  19.000000     Self Enquiry         3   \n",
       "4887      204887          1  36.000000     Self Enquiry         1   \n",
       "\n",
       "      DurationOfPitch      Occupation  Gender  NumberOfPersonVisiting  \\\n",
       "0                 6.0        Salaried  Female                       3   \n",
       "1                14.0        Salaried    Male                       3   \n",
       "2                 8.0     Free Lancer    Male                       3   \n",
       "3                 9.0        Salaried  Female                       2   \n",
       "4                 8.0  Small Business    Male                       2   \n",
       "...               ...             ...     ...                     ...   \n",
       "4883              9.0  Small Business    Male                       3   \n",
       "4884             31.0        Salaried    Male                       4   \n",
       "4885             17.0        Salaried  Female                       4   \n",
       "4886             16.0  Small Business    Male                       3   \n",
       "4887             14.0        Salaried    Male                       4   \n",
       "\n",
       "      NumberOfFollowups  ... PreferredPropertyStar  MaritalStatus  \\\n",
       "0                   3.0  ...                   3.0         Single   \n",
       "1                   4.0  ...                   4.0       Divorced   \n",
       "2                   4.0  ...                   3.0         Single   \n",
       "3                   3.0  ...                   3.0       Divorced   \n",
       "4                   3.0  ...                   4.0       Divorced   \n",
       "...                 ...  ...                   ...            ...   \n",
       "4883                5.0  ...                   4.0      Unmarried   \n",
       "4884                5.0  ...                   3.0         Single   \n",
       "4885                4.0  ...                   4.0        Married   \n",
       "4886                4.0  ...                   3.0         Single   \n",
       "4887                4.0  ...                   4.0      Unmarried   \n",
       "\n",
       "     NumberOfTrips  Passport  PitchSatisfactionScore  OwnCar  \\\n",
       "0              1.0         1                       2       1   \n",
       "1              2.0         0                       3       1   \n",
       "2              7.0         1                       3       0   \n",
       "3              2.0         1                       5       1   \n",
       "4              1.0         0                       5       1   \n",
       "...            ...       ...                     ...     ...   \n",
       "4883           2.0         1                       1       1   \n",
       "4884           3.0         1                       3       1   \n",
       "4885           7.0         0                       1       1   \n",
       "4886           3.0         0                       5       0   \n",
       "4887           3.0         1                       3       1   \n",
       "\n",
       "      NumberOfChildrenVisiting     Designation MonthlyIncome  NumberOfTrips   \n",
       "0                          0.0         Manager       20993.0             1.0  \n",
       "1                          2.0         Manager       20130.0             2.0  \n",
       "2                          0.0       Executive       17090.0             7.0  \n",
       "3                          1.0       Executive       17909.0             2.0  \n",
       "4                          0.0       Executive       18468.0             1.0  \n",
       "...                        ...             ...           ...             ...  \n",
       "4883                       1.0         Manager       26576.0             2.0  \n",
       "4884                       2.0       Executive       21212.0             3.0  \n",
       "4885                       3.0  Senior Manager       31820.0             7.0  \n",
       "4886                       2.0       Executive       20289.0             3.0  \n",
       "4887                       2.0       Executive       24041.0             3.0  \n",
       "\n",
       "[4888 rows x 21 columns]"
      ]
     },
     "execution_count": 56,
     "metadata": {},
     "output_type": "execute_result"
    }
   ],
   "source": [
    "df"
   ]
  },
  {
   "cell_type": "code",
   "execution_count": 60,
   "id": "5bd6ff8f",
   "metadata": {},
   "outputs": [
    {
     "data": {
      "text/plain": [
       "dtype('float64')"
      ]
     },
     "execution_count": 60,
     "metadata": {},
     "output_type": "execute_result"
    }
   ],
   "source": [
    "df['NumberOfChildrenVisiting'].dtypes\n",
    "\n"
   ]
  },
  {
   "cell_type": "markdown",
   "id": "b281aecb",
   "metadata": {},
   "source": [
    "# Missing value NumberOfChildrenVisiting "
   ]
  },
  {
   "cell_type": "code",
   "execution_count": 61,
   "id": "6940a0a2",
   "metadata": {},
   "outputs": [
    {
     "name": "stderr",
     "output_type": "stream",
     "text": [
      "C:\\Users\\HP\\Anaconda3\\envs\\Practice\\lib\\site-packages\\seaborn\\distributions.py:2619: FutureWarning: `distplot` is a deprecated function and will be removed in a future version. Please adapt your code to use either `displot` (a figure-level function with similar flexibility) or `histplot` (an axes-level function for histograms).\n",
      "  warnings.warn(msg, FutureWarning)\n"
     ]
    },
    {
     "data": {
      "text/plain": [
       "<AxesSubplot: xlabel='NumberOfChildrenVisiting', ylabel='Density'>"
      ]
     },
     "execution_count": 61,
     "metadata": {},
     "output_type": "execute_result"
    },
    {
     "data": {
      "image/png": "[encoded data removed]",
      "text/plain": [
       "<Figure size 640x480 with 1 Axes>"
      ]
     },
     "metadata": {},
     "output_type": "display_data"
    }
   ],
   "source": [
    "sns.distplot(df['NumberOfChildrenVisiting'])"
   ]
  },
  {
   "cell_type": "code",
   "execution_count": 62,
   "id": "e6d645d4",
   "metadata": {},
   "outputs": [
    {
     "data": {
      "text/plain": [
       "array([ 0.,  2.,  1., nan,  3.])"
      ]
     },
     "execution_count": 62,
     "metadata": {},
     "output_type": "execute_result"
    }
   ],
   "source": [
    "df['NumberOfChildrenVisiting'].unique()"
   ]
  },
  {
   "cell_type": "code",
   "execution_count": 63,
   "id": "f340e9b7",
   "metadata": {},
   "outputs": [],
   "source": [
    "df['NumberOfChildrenVisiting']=df['NumberOfChildrenVisiting'].fillna(df['NumberOfChildrenVisiting'].mode()[0])"
   ]
  },
  {
   "cell_type": "code",
   "execution_count": 64,
   "id": "20f35fc8",
   "metadata": {},
   "outputs": [
    {
     "data": {
      "text/plain": [
       "0"
      ]
     },
     "execution_count": 64,
     "metadata": {},
     "output_type": "execute_result"
    }
   ],
   "source": [
    "df['NumberOfChildrenVisiting'].isnull().sum()"
   ]
  },
  {
   "cell_type": "code",
   "execution_count": 65,
   "id": "d88d54c1",
   "metadata": {},
   "outputs": [
    {
     "data": {
      "text/plain": [
       "array([0., 2., 1., 3.])"
      ]
     },
     "execution_count": 65,
     "metadata": {},
     "output_type": "execute_result"
    }
   ],
   "source": [
    "df['NumberOfChildrenVisiting'].unique()"
   ]
  },
  {
   "cell_type": "markdown",
   "id": "acc336b5",
   "metadata": {},
   "source": [
    "# Missing value of MonthlyIncome "
   ]
  },
  {
   "cell_type": "code",
   "execution_count": 66,
   "id": "a6624503",
   "metadata": {},
   "outputs": [
    {
     "name": "stderr",
     "output_type": "stream",
     "text": [
      "C:\\Users\\HP\\Anaconda3\\envs\\Practice\\lib\\site-packages\\seaborn\\distributions.py:2619: FutureWarning: `distplot` is a deprecated function and will be removed in a future version. Please adapt your code to use either `displot` (a figure-level function with similar flexibility) or `histplot` (an axes-level function for histograms).\n",
      "  warnings.warn(msg, FutureWarning)\n"
     ]
    },
    {
     "data": {
      "text/plain": [
       "<AxesSubplot: xlabel='MonthlyIncome', ylabel='Density'>"
      ]
     },
     "execution_count": 66,
     "metadata": {},
     "output_type": "execute_result"
    },
    {
     "data": {
      "image/png": "[encoded data removed]",
      "text/plain": [
       "<Figure size 640x480 with 1 Axes>"
      ]
     },
     "metadata": {},
     "output_type": "display_data"
    }
   ],
   "source": [
    "sns.distplot(df['MonthlyIncome'])"
   ]
  },
  {
   "cell_type": "code",
   "execution_count": 67,
   "id": "89578dc3",
   "metadata": {},
   "outputs": [],
   "source": [
    "df['MonthlyIncome']=df['MonthlyIncome'].fillna(df['MonthlyIncome'].mean())"
   ]
  },
  {
   "cell_type": "markdown",
   "id": "e01b9d23",
   "metadata": {},
   "source": [
    "# Finding Outliers\n"
   ]
  },
  {
   "cell_type": "code",
   "execution_count": 68,
   "id": "ecfd51e3",
   "metadata": {},
   "outputs": [
    {
     "name": "stderr",
     "output_type": "stream",
     "text": [
      "C:\\Users\\HP\\Anaconda3\\envs\\Practice\\lib\\site-packages\\seaborn\\_decorators.py:36: FutureWarning: Pass the following variable as a keyword arg: x. From version 0.12, the only valid positional argument will be `data`, and passing other arguments without an explicit keyword will result in an error or misinterpretation.\n",
      "  warnings.warn(\n"
     ]
    },
    {
     "data": {
      "text/plain": [
       "<AxesSubplot: xlabel='Age'>"
      ]
     },
     "execution_count": 68,
     "metadata": {},
     "output_type": "execute_result"
    },
    {
     "data": {
      "image/png": "[encoded data removed]",
      "text/plain": [
       "<Figure size 640x480 with 1 Axes>"
      ]
     },
     "metadata": {},
     "output_type": "display_data"
    }
   ],
   "source": [
    "sns.boxplot(df['Age'])"
   ]
  },
  {
   "cell_type": "code",
   "execution_count": 69,
   "id": "038ceba9",
   "metadata": {},
   "outputs": [
    {
     "data": {
      "text/html": [
       "<div>\n",
       "<style scoped>\n",
       "    .dataframe tbody tr th:only-of-type {\n",
       "        vertical-align: middle;\n",
       "    }\n",
       "\n",
       "    .dataframe tbody tr th {\n",
       "        vertical-align: top;\n",
       "    }\n",
       "\n",
       "    .dataframe thead th {\n",
       "        text-align: right;\n",
       "    }\n",
       "</style>\n",
       "<table border=\"1\" class=\"dataframe\">\n",
       "  <thead>\n",
       "    <tr style=\"text-align: right;\">\n",
       "      <th></th>\n",
       "      <th>CustomerID</th>\n",
       "      <th>ProdTaken</th>\n",
       "      <th>Age</th>\n",
       "      <th>TypeofContact</th>\n",
       "      <th>CityTier</th>\n",
       "      <th>DurationOfPitch</th>\n",
       "      <th>Occupation</th>\n",
       "      <th>Gender</th>\n",
       "      <th>NumberOfPersonVisiting</th>\n",
       "      <th>NumberOfFollowups</th>\n",
       "      <th>...</th>\n",
       "      <th>PreferredPropertyStar</th>\n",
       "      <th>MaritalStatus</th>\n",
       "      <th>NumberOfTrips</th>\n",
       "      <th>Passport</th>\n",
       "      <th>PitchSatisfactionScore</th>\n",
       "      <th>OwnCar</th>\n",
       "      <th>NumberOfChildrenVisiting</th>\n",
       "      <th>Designation</th>\n",
       "      <th>MonthlyIncome</th>\n",
       "      <th>NumberOfTrips</th>\n",
       "    </tr>\n",
       "  </thead>\n",
       "  <tbody>\n",
       "    <tr>\n",
       "      <th>0</th>\n",
       "      <td>200000</td>\n",
       "      <td>1</td>\n",
       "      <td>41.000000</td>\n",
       "      <td>Self Enquiry</td>\n",
       "      <td>3</td>\n",
       "      <td>6.0</td>\n",
       "      <td>Salaried</td>\n",
       "      <td>Female</td>\n",
       "      <td>3</td>\n",
       "      <td>3.0</td>\n",
       "      <td>...</td>\n",
       "      <td>3.0</td>\n",
       "      <td>Single</td>\n",
       "      <td>1.0</td>\n",
       "      <td>1</td>\n",
       "      <td>2</td>\n",
       "      <td>1</td>\n",
       "      <td>0.0</td>\n",
       "      <td>Manager</td>\n",
       "      <td>20993.0</td>\n",
       "      <td>1.0</td>\n",
       "    </tr>\n",
       "    <tr>\n",
       "      <th>1</th>\n",
       "      <td>200001</td>\n",
       "      <td>0</td>\n",
       "      <td>49.000000</td>\n",
       "      <td>Company Invited</td>\n",
       "      <td>1</td>\n",
       "      <td>14.0</td>\n",
       "      <td>Salaried</td>\n",
       "      <td>Male</td>\n",
       "      <td>3</td>\n",
       "      <td>4.0</td>\n",
       "      <td>...</td>\n",
       "      <td>4.0</td>\n",
       "      <td>Divorced</td>\n",
       "      <td>2.0</td>\n",
       "      <td>0</td>\n",
       "      <td>3</td>\n",
       "      <td>1</td>\n",
       "      <td>2.0</td>\n",
       "      <td>Manager</td>\n",
       "      <td>20130.0</td>\n",
       "      <td>2.0</td>\n",
       "    </tr>\n",
       "    <tr>\n",
       "      <th>2</th>\n",
       "      <td>200002</td>\n",
       "      <td>1</td>\n",
       "      <td>37.000000</td>\n",
       "      <td>Self Enquiry</td>\n",
       "      <td>1</td>\n",
       "      <td>8.0</td>\n",
       "      <td>Free Lancer</td>\n",
       "      <td>Male</td>\n",
       "      <td>3</td>\n",
       "      <td>4.0</td>\n",
       "      <td>...</td>\n",
       "      <td>3.0</td>\n",
       "      <td>Single</td>\n",
       "      <td>7.0</td>\n",
       "      <td>1</td>\n",
       "      <td>3</td>\n",
       "      <td>0</td>\n",
       "      <td>0.0</td>\n",
       "      <td>Executive</td>\n",
       "      <td>17090.0</td>\n",
       "      <td>7.0</td>\n",
       "    </tr>\n",
       "    <tr>\n",
       "      <th>3</th>\n",
       "      <td>200003</td>\n",
       "      <td>0</td>\n",
       "      <td>33.000000</td>\n",
       "      <td>Company Invited</td>\n",
       "      <td>1</td>\n",
       "      <td>9.0</td>\n",
       "      <td>Salaried</td>\n",
       "      <td>Female</td>\n",
       "      <td>2</td>\n",
       "      <td>3.0</td>\n",
       "      <td>...</td>\n",
       "      <td>3.0</td>\n",
       "      <td>Divorced</td>\n",
       "      <td>2.0</td>\n",
       "      <td>1</td>\n",
       "      <td>5</td>\n",
       "      <td>1</td>\n",
       "      <td>1.0</td>\n",
       "      <td>Executive</td>\n",
       "      <td>17909.0</td>\n",
       "      <td>2.0</td>\n",
       "    </tr>\n",
       "    <tr>\n",
       "      <th>4</th>\n",
       "      <td>200004</td>\n",
       "      <td>0</td>\n",
       "      <td>37.622265</td>\n",
       "      <td>Self Enquiry</td>\n",
       "      <td>1</td>\n",
       "      <td>8.0</td>\n",
       "      <td>Small Business</td>\n",
       "      <td>Male</td>\n",
       "      <td>2</td>\n",
       "      <td>3.0</td>\n",
       "      <td>...</td>\n",
       "      <td>4.0</td>\n",
       "      <td>Divorced</td>\n",
       "      <td>1.0</td>\n",
       "      <td>0</td>\n",
       "      <td>5</td>\n",
       "      <td>1</td>\n",
       "      <td>0.0</td>\n",
       "      <td>Executive</td>\n",
       "      <td>18468.0</td>\n",
       "      <td>1.0</td>\n",
       "    </tr>\n",
       "  </tbody>\n",
       "</table>\n",
       "<p>5 rows × 21 columns</p>\n",
       "</div>"
      ],
      "text/plain": [
       "   CustomerID  ProdTaken        Age    TypeofContact  CityTier  \\\n",
       "0      200000          1  41.000000     Self Enquiry         3   \n",
       "1      200001          0  49.000000  Company Invited         1   \n",
       "2      200002          1  37.000000     Self Enquiry         1   \n",
       "3      200003          0  33.000000  Company Invited         1   \n",
       "4      200004          0  37.622265     Self Enquiry         1   \n",
       "\n",
       "   DurationOfPitch      Occupation  Gender  NumberOfPersonVisiting  \\\n",
       "0              6.0        Salaried  Female                       3   \n",
       "1             14.0        Salaried    Male                       3   \n",
       "2              8.0     Free Lancer    Male                       3   \n",
       "3              9.0        Salaried  Female                       2   \n",
       "4              8.0  Small Business    Male                       2   \n",
       "\n",
       "   NumberOfFollowups  ... PreferredPropertyStar  MaritalStatus NumberOfTrips  \\\n",
       "0                3.0  ...                   3.0         Single           1.0   \n",
       "1                4.0  ...                   4.0       Divorced           2.0   \n",
       "2                4.0  ...                   3.0         Single           7.0   \n",
       "3                3.0  ...                   3.0       Divorced           2.0   \n",
       "4                3.0  ...                   4.0       Divorced           1.0   \n",
       "\n",
       "   Passport  PitchSatisfactionScore  OwnCar  NumberOfChildrenVisiting  \\\n",
       "0         1                       2       1                       0.0   \n",
       "1         0                       3       1                       2.0   \n",
       "2         1                       3       0                       0.0   \n",
       "3         1                       5       1                       1.0   \n",
       "4         0                       5       1                       0.0   \n",
       "\n",
       "   Designation MonthlyIncome  NumberOfTrips   \n",
       "0      Manager       20993.0             1.0  \n",
       "1      Manager       20130.0             2.0  \n",
       "2    Executive       17090.0             7.0  \n",
       "3    Executive       17909.0             2.0  \n",
       "4    Executive       18468.0             1.0  \n",
       "\n",
       "[5 rows x 21 columns]"
      ]
     },
     "execution_count": 69,
     "metadata": {},
     "output_type": "execute_result"
    }
   ],
   "source": [
    "df.head()"
   ]
  },
  {
   "cell_type": "code",
   "execution_count": 70,
   "id": "fda5f892",
   "metadata": {},
   "outputs": [
    {
     "name": "stderr",
     "output_type": "stream",
     "text": [
      "C:\\Users\\HP\\Anaconda3\\envs\\Practice\\lib\\site-packages\\seaborn\\_decorators.py:36: FutureWarning: Pass the following variable as a keyword arg: x. From version 0.12, the only valid positional argument will be `data`, and passing other arguments without an explicit keyword will result in an error or misinterpretation.\n",
      "  warnings.warn(\n"
     ]
    },
    {
     "data": {
      "text/plain": [
       "<AxesSubplot: xlabel='ProdTaken'>"
      ]
     },
     "execution_count": 70,
     "metadata": {},
     "output_type": "execute_result"
    },
    {
     "data": {
      "image/png": "[encoded data removed]",
      "text/plain": [
       "<Figure size 640x480 with 1 Axes>"
      ]
     },
     "metadata": {},
     "output_type": "display_data"
    }
   ],
   "source": [
    "sns.boxplot(df['ProdTaken'])\n"
   ]
  },
  {
   "cell_type": "markdown",
   "id": "4ab97c6d",
   "metadata": {},
   "source": [
    "# detecting outliers using z-score\n",
    "1.In MonthlyIncome"
   ]
  },
  {
   "cell_type": "code",
   "execution_count": 86,
   "id": "136e226a",
   "metadata": {},
   "outputs": [
    {
     "name": "stdout",
     "output_type": "stream",
     "text": [
      "Outliers from z_score [95000.0, 1000.0, 98678.0, 4678.0]\n"
     ]
    }
   ],
   "source": [
    "import  numpy as np \n",
    "outliers=[]\n",
    "def detect_outliers(data):\n",
    "    thres=3\n",
    "    mean=np.mean(data)\n",
    "    std=np.std(data)\n",
    "    for i in data:\n",
    "        z_score=(i-mean)/std\n",
    "        \n",
    "        if (np.abs(z_score)>thres):\n",
    "            outliers.append(i)\n",
    "    return outliers\n",
    "sample_outliers = detect_outliers(df['MonthlyIncome'])\n",
    "print(\"Outliers from z_score\",sample_outliers)        "
   ]
  },
  {
   "cell_type": "code",
   "execution_count": 84,
   "id": "92c8d661",
   "metadata": {},
   "outputs": [
    {
     "name": "stderr",
     "output_type": "stream",
     "text": [
      "C:\\Users\\HP\\Anaconda3\\envs\\Practice\\lib\\site-packages\\seaborn\\_decorators.py:36: FutureWarning: Pass the following variable as a keyword arg: x. From version 0.12, the only valid positional argument will be `data`, and passing other arguments without an explicit keyword will result in an error or misinterpretation.\n",
      "  warnings.warn(\n"
     ]
    },
    {
     "data": {
      "text/plain": [
       "<AxesSubplot: xlabel='MonthlyIncome'>"
      ]
     },
     "execution_count": 84,
     "metadata": {},
     "output_type": "execute_result"
    },
    {
     "data": {
      "image/png": "[encoded data removed]",
      "text/plain": [
       "<Figure size 640x480 with 1 Axes>"
      ]
     },
     "metadata": {},
     "output_type": "display_data"
    }
   ],
   "source": [
    "sns.boxplot(df[\"MonthlyIncome\"])"
   ]
  },
  {
   "cell_type": "markdown",
   "id": "6fc8f77d",
   "metadata": {},
   "source": [
    "# Handling MonthlyIncome  outliers with median"
   ]
  },
  {
   "cell_type": "code",
   "execution_count": 102,
   "id": "6d9ed40c",
   "metadata": {},
   "outputs": [
    {
     "name": "stdout",
     "output_type": "stream",
     "text": [
      "0       20993.0\n",
      "1       20130.0\n",
      "2       17090.0\n",
      "3       17909.0\n",
      "4       18468.0\n",
      "         ...   \n",
      "4883    26576.0\n",
      "4884    21212.0\n",
      "4885    31820.0\n",
      "4886    20289.0\n",
      "4887    24041.0\n",
      "Name: MonthlyIncome, Length: 4888, dtype: float64\n",
      "New array [22655. 22655. 22655. ... 22655. 22655. 22655.]\n"
     ]
    }
   ],
   "source": [
    "median=np.median(df['MonthlyIncome'])\n",
    "for i in sample_outliers:\n",
    "    c=np.where(df['MonthlyIncome']==i,i,median)\n",
    "print(df[\"MonthlyIncome\"])\n",
    "print(\"New array\",c)"
   ]
  },
  {
   "cell_type": "code",
   "execution_count": 101,
   "id": "91476a83",
   "metadata": {},
   "outputs": [
    {
     "name": "stderr",
     "output_type": "stream",
     "text": [
      "C:\\Users\\HP\\Anaconda3\\envs\\Practice\\lib\\site-packages\\seaborn\\_decorators.py:36: FutureWarning: Pass the following variable as a keyword arg: x. From version 0.12, the only valid positional argument will be `data`, and passing other arguments without an explicit keyword will result in an error or misinterpretation.\n",
      "  warnings.warn(\n"
     ]
    },
    {
     "data": {
      "text/plain": [
       "<AxesSubplot: xlabel='MonthlyIncome'>"
      ]
     },
     "execution_count": 101,
     "metadata": {},
     "output_type": "execute_result"
    },
    {
     "data": {
      "image/png": "[encoded data removed]",
      "text/plain": [
       "<Figure size 640x480 with 1 Axes>"
      ]
     },
     "metadata": {},
     "output_type": "display_data"
    }
   ],
   "source": [
    "sns.boxplot(df[\"MonthlyIncome\"])"
   ]
  },
  {
   "cell_type": "code",
   "execution_count": null,
   "id": "9083f12e",
   "metadata": {},
   "outputs": [],
   "source": []
  },
  {
   "cell_type": "code",
   "execution_count": null,
   "id": "4abc58de",
   "metadata": {},
   "outputs": [],
   "source": []
  },
  {
   "cell_type": "markdown",
   "id": "20d2c5f5",
   "metadata": {},
   "source": [
    "# Detecting outliers in DurationOfPitch"
   ]
  },
  {
   "cell_type": "code",
   "execution_count": 90,
   "id": "563ee031",
   "metadata": {},
   "outputs": [
    {
     "name": "stderr",
     "output_type": "stream",
     "text": [
      "C:\\Users\\HP\\Anaconda3\\envs\\Practice\\lib\\site-packages\\seaborn\\_decorators.py:36: FutureWarning: Pass the following variable as a keyword arg: x. From version 0.12, the only valid positional argument will be `data`, and passing other arguments without an explicit keyword will result in an error or misinterpretation.\n",
      "  warnings.warn(\n"
     ]
    },
    {
     "data": {
      "text/plain": [
       "<AxesSubplot: xlabel='DurationOfPitch'>"
      ]
     },
     "execution_count": 90,
     "metadata": {},
     "output_type": "execute_result"
    },
    {
     "data": {
      "image/png": "[encoded data removed]",
      "text/plain": [
       "<Figure size 640x480 with 1 Axes>"
      ]
     },
     "metadata": {},
     "output_type": "display_data"
    }
   ],
   "source": [
    "sns.boxplot(df['DurationOfPitch'],hue=20)"
   ]
  },
  {
   "cell_type": "code",
   "execution_count": null,
   "id": "f7b95004",
   "metadata": {},
   "outputs": [],
   "source": [
    "# Using z score "
   ]
  },
  {
   "cell_type": "code",
   "execution_count": 99,
   "id": "77e20b8a",
   "metadata": {},
   "outputs": [
    {
     "name": "stdout",
     "output_type": "stream",
     "text": [
      "Outliers from z_score [126.0, 127.0]\n"
     ]
    }
   ],
   "source": [
    "outliers_Duration=[]\n",
    "def detect_outliers_Duration(data):\n",
    "    thres=3\n",
    "    mean=np.mean(data)\n",
    "    std=np.std(data)\n",
    "    for i in data:\n",
    "        z_score=(i-mean)/std\n",
    "        \n",
    "        if (np.abs(z_score)>thres):\n",
    "            outliers_Duration.append(i)\n",
    "    return outliers_Duration\n",
    "sample_outliers_Duration = detect_outliers_Duration(df['DurationOfPitch'])\n",
    "print(\"Outliers from z_score\",sample_outliers_Duration)  "
   ]
  },
  {
   "cell_type": "code",
   "execution_count": 97,
   "id": "76d72b42",
   "metadata": {},
   "outputs": [
    {
     "name": "stdout",
     "output_type": "stream",
     "text": [
      "[95000.0, 1000.0, 98678.0, 4678.0, 126.0, 127.0, 126.0, 127.0, 126.0, 127.0, 95000.0, 1000.0, 98678.0, 4678.0, 95000.0, 1000.0, 98678.0, 4678.0, 95000.0, 1000.0, 98678.0, 4678.0, 95000.0, 1000.0, 98678.0, 4678.0, 126.0, 127.0, 126.0, 127.0]\n"
     ]
    }
   ],
   "source": [
    "  "
   ]
  },
  {
   "cell_type": "markdown",
   "id": "ec7a96a6",
   "metadata": {},
   "source": [
    "# Detecting outliers using box plot"
   ]
  },
  {
   "cell_type": "code",
   "execution_count": 103,
   "id": "7928b101",
   "metadata": {},
   "outputs": [
    {
     "name": "stderr",
     "output_type": "stream",
     "text": [
      "C:\\Users\\HP\\Anaconda3\\envs\\Practice\\lib\\site-packages\\seaborn\\_decorators.py:36: FutureWarning: Pass the following variable as a keyword arg: x. From version 0.12, the only valid positional argument will be `data`, and passing other arguments without an explicit keyword will result in an error or misinterpretation.\n",
      "  warnings.warn(\n"
     ]
    },
    {
     "data": {
      "text/plain": [
       "<AxesSubplot: xlabel='NumberOfPersonVisiting'>"
      ]
     },
     "execution_count": 103,
     "metadata": {},
     "output_type": "execute_result"
    },
    {
     "data": {
      "image/png": "[encoded data removed]",
      "text/plain": [
       "<Figure size 640x480 with 1 Axes>"
      ]
     },
     "metadata": {},
     "output_type": "display_data"
    }
   ],
   "source": [
    "sns.boxplot(df['NumberOfPersonVisiting'])"
   ]
  },
  {
   "cell_type": "code",
   "execution_count": 110,
   "id": "e7e2a785",
   "metadata": {},
   "outputs": [
    {
     "name": "stdout",
     "output_type": "stream",
     "text": [
      "Outliers from IQR method [5, 5, 5]\n"
     ]
    }
   ],
   "source": [
    "#Using IQR method\n",
    "outliers1=[]\n",
    "def detect_outlier_IQR(data1):\n",
    "    q1=np.percentile(data1,25)\n",
    "    q3=np.percentile(data1,75)\n",
    "    IQR=q3-q1\n",
    "    low_bound=q1-(1.5*IQR)\n",
    "    upp_bound=q3+(1.5*IQR)\n",
    "    \n",
    "    for i in data1:\n",
    "        if(i<low_bound or i>upp_bound):\n",
    "            outliers1.append(i)\n",
    "    return outliers1\n",
    "New=detect_outlier_IQR(df[\"NumberOfPersonVisiting\"])\n",
    "print(\"Outliers from IQR method\" , New)\n"
   ]
  },
  {
   "cell_type": "markdown",
   "id": "81eda9e1",
   "metadata": {},
   "source": [
    "# Endcoding of Categorical data"
   ]
  },
  {
   "cell_type": "code",
   "execution_count": 112,
   "id": "3d5d5dca",
   "metadata": {},
   "outputs": [
    {
     "data": {
      "text/html": [
       "<div>\n",
       "<style scoped>\n",
       "    .dataframe tbody tr th:only-of-type {\n",
       "        vertical-align: middle;\n",
       "    }\n",
       "\n",
       "    .dataframe tbody tr th {\n",
       "        vertical-align: top;\n",
       "    }\n",
       "\n",
       "    .dataframe thead th {\n",
       "        text-align: right;\n",
       "    }\n",
       "</style>\n",
       "<table border=\"1\" class=\"dataframe\">\n",
       "  <thead>\n",
       "    <tr style=\"text-align: right;\">\n",
       "      <th></th>\n",
       "      <th>CustomerID</th>\n",
       "      <th>ProdTaken</th>\n",
       "      <th>Age</th>\n",
       "      <th>TypeofContact</th>\n",
       "      <th>CityTier</th>\n",
       "      <th>DurationOfPitch</th>\n",
       "      <th>Occupation</th>\n",
       "      <th>Gender</th>\n",
       "      <th>NumberOfPersonVisiting</th>\n",
       "      <th>NumberOfFollowups</th>\n",
       "      <th>...</th>\n",
       "      <th>PreferredPropertyStar</th>\n",
       "      <th>MaritalStatus</th>\n",
       "      <th>NumberOfTrips</th>\n",
       "      <th>Passport</th>\n",
       "      <th>PitchSatisfactionScore</th>\n",
       "      <th>OwnCar</th>\n",
       "      <th>NumberOfChildrenVisiting</th>\n",
       "      <th>Designation</th>\n",
       "      <th>MonthlyIncome</th>\n",
       "      <th>NumberOfTrips</th>\n",
       "    </tr>\n",
       "  </thead>\n",
       "  <tbody>\n",
       "    <tr>\n",
       "      <th>0</th>\n",
       "      <td>200000</td>\n",
       "      <td>1</td>\n",
       "      <td>41.000000</td>\n",
       "      <td>Self Enquiry</td>\n",
       "      <td>3</td>\n",
       "      <td>6.0</td>\n",
       "      <td>Salaried</td>\n",
       "      <td>Female</td>\n",
       "      <td>3</td>\n",
       "      <td>3.0</td>\n",
       "      <td>...</td>\n",
       "      <td>3.0</td>\n",
       "      <td>Single</td>\n",
       "      <td>1.0</td>\n",
       "      <td>1</td>\n",
       "      <td>2</td>\n",
       "      <td>1</td>\n",
       "      <td>0.0</td>\n",
       "      <td>Manager</td>\n",
       "      <td>20993.0</td>\n",
       "      <td>1.0</td>\n",
       "    </tr>\n",
       "    <tr>\n",
       "      <th>1</th>\n",
       "      <td>200001</td>\n",
       "      <td>0</td>\n",
       "      <td>49.000000</td>\n",
       "      <td>Company Invited</td>\n",
       "      <td>1</td>\n",
       "      <td>14.0</td>\n",
       "      <td>Salaried</td>\n",
       "      <td>Male</td>\n",
       "      <td>3</td>\n",
       "      <td>4.0</td>\n",
       "      <td>...</td>\n",
       "      <td>4.0</td>\n",
       "      <td>Divorced</td>\n",
       "      <td>2.0</td>\n",
       "      <td>0</td>\n",
       "      <td>3</td>\n",
       "      <td>1</td>\n",
       "      <td>2.0</td>\n",
       "      <td>Manager</td>\n",
       "      <td>20130.0</td>\n",
       "      <td>2.0</td>\n",
       "    </tr>\n",
       "    <tr>\n",
       "      <th>2</th>\n",
       "      <td>200002</td>\n",
       "      <td>1</td>\n",
       "      <td>37.000000</td>\n",
       "      <td>Self Enquiry</td>\n",
       "      <td>1</td>\n",
       "      <td>8.0</td>\n",
       "      <td>Free Lancer</td>\n",
       "      <td>Male</td>\n",
       "      <td>3</td>\n",
       "      <td>4.0</td>\n",
       "      <td>...</td>\n",
       "      <td>3.0</td>\n",
       "      <td>Single</td>\n",
       "      <td>7.0</td>\n",
       "      <td>1</td>\n",
       "      <td>3</td>\n",
       "      <td>0</td>\n",
       "      <td>0.0</td>\n",
       "      <td>Executive</td>\n",
       "      <td>17090.0</td>\n",
       "      <td>7.0</td>\n",
       "    </tr>\n",
       "    <tr>\n",
       "      <th>3</th>\n",
       "      <td>200003</td>\n",
       "      <td>0</td>\n",
       "      <td>33.000000</td>\n",
       "      <td>Company Invited</td>\n",
       "      <td>1</td>\n",
       "      <td>9.0</td>\n",
       "      <td>Salaried</td>\n",
       "      <td>Female</td>\n",
       "      <td>2</td>\n",
       "      <td>3.0</td>\n",
       "      <td>...</td>\n",
       "      <td>3.0</td>\n",
       "      <td>Divorced</td>\n",
       "      <td>2.0</td>\n",
       "      <td>1</td>\n",
       "      <td>5</td>\n",
       "      <td>1</td>\n",
       "      <td>1.0</td>\n",
       "      <td>Executive</td>\n",
       "      <td>17909.0</td>\n",
       "      <td>2.0</td>\n",
       "    </tr>\n",
       "    <tr>\n",
       "      <th>4</th>\n",
       "      <td>200004</td>\n",
       "      <td>0</td>\n",
       "      <td>37.622265</td>\n",
       "      <td>Self Enquiry</td>\n",
       "      <td>1</td>\n",
       "      <td>8.0</td>\n",
       "      <td>Small Business</td>\n",
       "      <td>Male</td>\n",
       "      <td>2</td>\n",
       "      <td>3.0</td>\n",
       "      <td>...</td>\n",
       "      <td>4.0</td>\n",
       "      <td>Divorced</td>\n",
       "      <td>1.0</td>\n",
       "      <td>0</td>\n",
       "      <td>5</td>\n",
       "      <td>1</td>\n",
       "      <td>0.0</td>\n",
       "      <td>Executive</td>\n",
       "      <td>18468.0</td>\n",
       "      <td>1.0</td>\n",
       "    </tr>\n",
       "  </tbody>\n",
       "</table>\n",
       "<p>5 rows × 21 columns</p>\n",
       "</div>"
      ],
      "text/plain": [
       "   CustomerID  ProdTaken        Age    TypeofContact  CityTier  \\\n",
       "0      200000          1  41.000000     Self Enquiry         3   \n",
       "1      200001          0  49.000000  Company Invited         1   \n",
       "2      200002          1  37.000000     Self Enquiry         1   \n",
       "3      200003          0  33.000000  Company Invited         1   \n",
       "4      200004          0  37.622265     Self Enquiry         1   \n",
       "\n",
       "   DurationOfPitch      Occupation  Gender  NumberOfPersonVisiting  \\\n",
       "0              6.0        Salaried  Female                       3   \n",
       "1             14.0        Salaried    Male                       3   \n",
       "2              8.0     Free Lancer    Male                       3   \n",
       "3              9.0        Salaried  Female                       2   \n",
       "4              8.0  Small Business    Male                       2   \n",
       "\n",
       "   NumberOfFollowups  ... PreferredPropertyStar  MaritalStatus NumberOfTrips  \\\n",
       "0                3.0  ...                   3.0         Single           1.0   \n",
       "1                4.0  ...                   4.0       Divorced           2.0   \n",
       "2                4.0  ...                   3.0         Single           7.0   \n",
       "3                3.0  ...                   3.0       Divorced           2.0   \n",
       "4                3.0  ...                   4.0       Divorced           1.0   \n",
       "\n",
       "   Passport  PitchSatisfactionScore  OwnCar  NumberOfChildrenVisiting  \\\n",
       "0         1                       2       1                       0.0   \n",
       "1         0                       3       1                       2.0   \n",
       "2         1                       3       0                       0.0   \n",
       "3         1                       5       1                       1.0   \n",
       "4         0                       5       1                       0.0   \n",
       "\n",
       "   Designation MonthlyIncome  NumberOfTrips   \n",
       "0      Manager       20993.0             1.0  \n",
       "1      Manager       20130.0             2.0  \n",
       "2    Executive       17090.0             7.0  \n",
       "3    Executive       17909.0             2.0  \n",
       "4    Executive       18468.0             1.0  \n",
       "\n",
       "[5 rows x 21 columns]"
      ]
     },
     "execution_count": 112,
     "metadata": {},
     "output_type": "execute_result"
    }
   ],
   "source": [
    "df.head()"
   ]
  },
  {
   "cell_type": "code",
   "execution_count": 113,
   "id": "792e846a",
   "metadata": {},
   "outputs": [
    {
     "name": "stdout",
     "output_type": "stream",
     "text": [
      "Note: you may need to restart the kernel to use updated packages.\n"
     ]
    },
    {
     "name": "stderr",
     "output_type": "stream",
     "text": [
      "ERROR: Could not find a version that satisfies the requirement categoty_encoders (from versions: none)\n",
      "ERROR: No matching distribution found for categoty_encoders\n"
     ]
    }
   ],
   "source": [
    "pip install category_encoders\n"
   ]
  },
  {
   "cell_type": "markdown",
   "id": "1d15602b",
   "metadata": {},
   "source": [
    "# Level Encoding of Designation column"
   ]
  },
  {
   "cell_type": "code",
   "execution_count": 6,
   "id": "7cdeacf7",
   "metadata": {},
   "outputs": [],
   "source": [
    "from sklearn import preprocessing "
   ]
  },
  {
   "cell_type": "code",
   "execution_count": 7,
   "id": "262aed4b",
   "metadata": {},
   "outputs": [],
   "source": [
    "label_encoder=preprocessing.LabelEncoder()"
   ]
  },
  {
   "cell_type": "code",
   "execution_count": 10,
   "id": "b1a9eba3",
   "metadata": {},
   "outputs": [],
   "source": [
    "df[\"Designation\"]=label_encoder.fit_transform(df[\"Designation\"])"
   ]
  },
  {
   "cell_type": "code",
   "execution_count": 11,
   "id": "3837eabb",
   "metadata": {},
   "outputs": [
    {
     "data": {
      "text/html": [
       "<div>\n",
       "<style scoped>\n",
       "    .dataframe tbody tr th:only-of-type {\n",
       "        vertical-align: middle;\n",
       "    }\n",
       "\n",
       "    .dataframe tbody tr th {\n",
       "        vertical-align: top;\n",
       "    }\n",
       "\n",
       "    .dataframe thead th {\n",
       "        text-align: right;\n",
       "    }\n",
       "</style>\n",
       "<table border=\"1\" class=\"dataframe\">\n",
       "  <thead>\n",
       "    <tr style=\"text-align: right;\">\n",
       "      <th></th>\n",
       "      <th>CustomerID</th>\n",
       "      <th>ProdTaken</th>\n",
       "      <th>Age</th>\n",
       "      <th>TypeofContact</th>\n",
       "      <th>CityTier</th>\n",
       "      <th>DurationOfPitch</th>\n",
       "      <th>Occupation</th>\n",
       "      <th>Gender</th>\n",
       "      <th>NumberOfPersonVisiting</th>\n",
       "      <th>NumberOfFollowups</th>\n",
       "      <th>ProductPitched</th>\n",
       "      <th>PreferredPropertyStar</th>\n",
       "      <th>MaritalStatus</th>\n",
       "      <th>NumberOfTrips</th>\n",
       "      <th>Passport</th>\n",
       "      <th>PitchSatisfactionScore</th>\n",
       "      <th>OwnCar</th>\n",
       "      <th>NumberOfChildrenVisiting</th>\n",
       "      <th>Designation</th>\n",
       "      <th>MonthlyIncome</th>\n",
       "    </tr>\n",
       "  </thead>\n",
       "  <tbody>\n",
       "    <tr>\n",
       "      <th>0</th>\n",
       "      <td>200000</td>\n",
       "      <td>1</td>\n",
       "      <td>41.0</td>\n",
       "      <td>Self Enquiry</td>\n",
       "      <td>3</td>\n",
       "      <td>6.0</td>\n",
       "      <td>Salaried</td>\n",
       "      <td>Female</td>\n",
       "      <td>3</td>\n",
       "      <td>3.0</td>\n",
       "      <td>Deluxe</td>\n",
       "      <td>3.0</td>\n",
       "      <td>Single</td>\n",
       "      <td>1.0</td>\n",
       "      <td>1</td>\n",
       "      <td>2</td>\n",
       "      <td>1</td>\n",
       "      <td>0.0</td>\n",
       "      <td>2</td>\n",
       "      <td>20993.0</td>\n",
       "    </tr>\n",
       "    <tr>\n",
       "      <th>1</th>\n",
       "      <td>200001</td>\n",
       "      <td>0</td>\n",
       "      <td>49.0</td>\n",
       "      <td>Company Invited</td>\n",
       "      <td>1</td>\n",
       "      <td>14.0</td>\n",
       "      <td>Salaried</td>\n",
       "      <td>Male</td>\n",
       "      <td>3</td>\n",
       "      <td>4.0</td>\n",
       "      <td>Deluxe</td>\n",
       "      <td>4.0</td>\n",
       "      <td>Divorced</td>\n",
       "      <td>2.0</td>\n",
       "      <td>0</td>\n",
       "      <td>3</td>\n",
       "      <td>1</td>\n",
       "      <td>2.0</td>\n",
       "      <td>2</td>\n",
       "      <td>20130.0</td>\n",
       "    </tr>\n",
       "    <tr>\n",
       "      <th>2</th>\n",
       "      <td>200002</td>\n",
       "      <td>1</td>\n",
       "      <td>37.0</td>\n",
       "      <td>Self Enquiry</td>\n",
       "      <td>1</td>\n",
       "      <td>8.0</td>\n",
       "      <td>Free Lancer</td>\n",
       "      <td>Male</td>\n",
       "      <td>3</td>\n",
       "      <td>4.0</td>\n",
       "      <td>Basic</td>\n",
       "      <td>3.0</td>\n",
       "      <td>Single</td>\n",
       "      <td>7.0</td>\n",
       "      <td>1</td>\n",
       "      <td>3</td>\n",
       "      <td>0</td>\n",
       "      <td>0.0</td>\n",
       "      <td>1</td>\n",
       "      <td>17090.0</td>\n",
       "    </tr>\n",
       "    <tr>\n",
       "      <th>3</th>\n",
       "      <td>200003</td>\n",
       "      <td>0</td>\n",
       "      <td>33.0</td>\n",
       "      <td>Company Invited</td>\n",
       "      <td>1</td>\n",
       "      <td>9.0</td>\n",
       "      <td>Salaried</td>\n",
       "      <td>Female</td>\n",
       "      <td>2</td>\n",
       "      <td>3.0</td>\n",
       "      <td>Basic</td>\n",
       "      <td>3.0</td>\n",
       "      <td>Divorced</td>\n",
       "      <td>2.0</td>\n",
       "      <td>1</td>\n",
       "      <td>5</td>\n",
       "      <td>1</td>\n",
       "      <td>1.0</td>\n",
       "      <td>1</td>\n",
       "      <td>17909.0</td>\n",
       "    </tr>\n",
       "    <tr>\n",
       "      <th>4</th>\n",
       "      <td>200004</td>\n",
       "      <td>0</td>\n",
       "      <td>NaN</td>\n",
       "      <td>Self Enquiry</td>\n",
       "      <td>1</td>\n",
       "      <td>8.0</td>\n",
       "      <td>Small Business</td>\n",
       "      <td>Male</td>\n",
       "      <td>2</td>\n",
       "      <td>3.0</td>\n",
       "      <td>Basic</td>\n",
       "      <td>4.0</td>\n",
       "      <td>Divorced</td>\n",
       "      <td>1.0</td>\n",
       "      <td>0</td>\n",
       "      <td>5</td>\n",
       "      <td>1</td>\n",
       "      <td>0.0</td>\n",
       "      <td>1</td>\n",
       "      <td>18468.0</td>\n",
       "    </tr>\n",
       "  </tbody>\n",
       "</table>\n",
       "</div>"
      ],
      "text/plain": [
       "   CustomerID  ProdTaken   Age    TypeofContact  CityTier  DurationOfPitch  \\\n",
       "0      200000          1  41.0     Self Enquiry         3              6.0   \n",
       "1      200001          0  49.0  Company Invited         1             14.0   \n",
       "2      200002          1  37.0     Self Enquiry         1              8.0   \n",
       "3      200003          0  33.0  Company Invited         1              9.0   \n",
       "4      200004          0   NaN     Self Enquiry         1              8.0   \n",
       "\n",
       "       Occupation  Gender  NumberOfPersonVisiting  NumberOfFollowups  \\\n",
       "0        Salaried  Female                       3                3.0   \n",
       "1        Salaried    Male                       3                4.0   \n",
       "2     Free Lancer    Male                       3                4.0   \n",
       "3        Salaried  Female                       2                3.0   \n",
       "4  Small Business    Male                       2                3.0   \n",
       "\n",
       "  ProductPitched  PreferredPropertyStar MaritalStatus  NumberOfTrips  \\\n",
       "0         Deluxe                    3.0        Single            1.0   \n",
       "1         Deluxe                    4.0      Divorced            2.0   \n",
       "2          Basic                    3.0        Single            7.0   \n",
       "3          Basic                    3.0      Divorced            2.0   \n",
       "4          Basic                    4.0      Divorced            1.0   \n",
       "\n",
       "   Passport  PitchSatisfactionScore  OwnCar  NumberOfChildrenVisiting  \\\n",
       "0         1                       2       1                       0.0   \n",
       "1         0                       3       1                       2.0   \n",
       "2         1                       3       0                       0.0   \n",
       "3         1                       5       1                       1.0   \n",
       "4         0                       5       1                       0.0   \n",
       "\n",
       "   Designation  MonthlyIncome  \n",
       "0            2        20993.0  \n",
       "1            2        20130.0  \n",
       "2            1        17090.0  \n",
       "3            1        17909.0  \n",
       "4            1        18468.0  "
      ]
     },
     "execution_count": 11,
     "metadata": {},
     "output_type": "execute_result"
    }
   ],
   "source": [
    "df.head()"
   ]
  },
  {
   "cell_type": "markdown",
   "id": "fd6888c0",
   "metadata": {},
   "source": [
    "# One hot encoding for Categorical Variable"
   ]
  },
  {
   "cell_type": "markdown",
   "id": "afa39214",
   "metadata": {},
   "source": [
    "# Using get_dummies approach"
   ]
  },
  {
   "cell_type": "code",
   "execution_count": 16,
   "id": "0f9ab02e",
   "metadata": {},
   "outputs": [],
   "source": [
    "one_hot_encoding=pd.get_dummies(df,columns=[\"Gender\"])"
   ]
  },
  {
   "cell_type": "code",
   "execution_count": 18,
   "id": "83e266be",
   "metadata": {},
   "outputs": [
    {
     "name": "stdout",
     "output_type": "stream",
     "text": [
      "      CustomerID  ProdTaken   Age    TypeofContact  CityTier  DurationOfPitch  \\\n",
      "0         200000          1  41.0     Self Enquiry         3              6.0   \n",
      "1         200001          0  49.0  Company Invited         1             14.0   \n",
      "2         200002          1  37.0     Self Enquiry         1              8.0   \n",
      "3         200003          0  33.0  Company Invited         1              9.0   \n",
      "4         200004          0   NaN     Self Enquiry         1              8.0   \n",
      "...          ...        ...   ...              ...       ...              ...   \n",
      "4883      204883          1  49.0     Self Enquiry         3              9.0   \n",
      "4884      204884          1  28.0  Company Invited         1             31.0   \n",
      "4885      204885          1  52.0     Self Enquiry         3             17.0   \n",
      "4886      204886          1  19.0     Self Enquiry         3             16.0   \n",
      "4887      204887          1  36.0     Self Enquiry         1             14.0   \n",
      "\n",
      "          Occupation  NumberOfPersonVisiting  NumberOfFollowups  \\\n",
      "0           Salaried                       3                3.0   \n",
      "1           Salaried                       3                4.0   \n",
      "2        Free Lancer                       3                4.0   \n",
      "3           Salaried                       2                3.0   \n",
      "4     Small Business                       2                3.0   \n",
      "...              ...                     ...                ...   \n",
      "4883  Small Business                       3                5.0   \n",
      "4884        Salaried                       4                5.0   \n",
      "4885        Salaried                       4                4.0   \n",
      "4886  Small Business                       3                4.0   \n",
      "4887        Salaried                       4                4.0   \n",
      "\n",
      "     ProductPitched  ...  NumberOfTrips Passport  PitchSatisfactionScore  \\\n",
      "0            Deluxe  ...            1.0        1                       2   \n",
      "1            Deluxe  ...            2.0        0                       3   \n",
      "2             Basic  ...            7.0        1                       3   \n",
      "3             Basic  ...            2.0        1                       5   \n",
      "4             Basic  ...            1.0        0                       5   \n",
      "...             ...  ...            ...      ...                     ...   \n",
      "4883         Deluxe  ...            2.0        1                       1   \n",
      "4884          Basic  ...            3.0        1                       3   \n",
      "4885       Standard  ...            7.0        0                       1   \n",
      "4886          Basic  ...            3.0        0                       5   \n",
      "4887          Basic  ...            3.0        1                       3   \n",
      "\n",
      "      OwnCar  NumberOfChildrenVisiting  Designation  MonthlyIncome  \\\n",
      "0          1                       0.0            2        20993.0   \n",
      "1          1                       2.0            2        20130.0   \n",
      "2          0                       0.0            1        17090.0   \n",
      "3          1                       1.0            1        17909.0   \n",
      "4          1                       0.0            1        18468.0   \n",
      "...      ...                       ...          ...            ...   \n",
      "4883       1                       1.0            2        26576.0   \n",
      "4884       1                       2.0            1        21212.0   \n",
      "4885       1                       3.0            3        31820.0   \n",
      "4886       0                       2.0            1        20289.0   \n",
      "4887       1                       2.0            1        24041.0   \n",
      "\n",
      "      Gender_Fe Male  Gender_Female  Gender_Male  \n",
      "0                  0              1            0  \n",
      "1                  0              0            1  \n",
      "2                  0              0            1  \n",
      "3                  0              1            0  \n",
      "4                  0              0            1  \n",
      "...              ...            ...          ...  \n",
      "4883               0              0            1  \n",
      "4884               0              0            1  \n",
      "4885               0              1            0  \n",
      "4886               0              0            1  \n",
      "4887               0              0            1  \n",
      "\n",
      "[4888 rows x 22 columns]\n"
     ]
    }
   ],
   "source": [
    "print(one_hot_encoding)"
   ]
  },
  {
   "cell_type": "code",
   "execution_count": 19,
   "id": "6e618172",
   "metadata": {},
   "outputs": [
    {
     "data": {
      "text/html": [
       "<div>\n",
       "<style scoped>\n",
       "    .dataframe tbody tr th:only-of-type {\n",
       "        vertical-align: middle;\n",
       "    }\n",
       "\n",
       "    .dataframe tbody tr th {\n",
       "        vertical-align: top;\n",
       "    }\n",
       "\n",
       "    .dataframe thead th {\n",
       "        text-align: right;\n",
       "    }\n",
       "</style>\n",
       "<table border=\"1\" class=\"dataframe\">\n",
       "  <thead>\n",
       "    <tr style=\"text-align: right;\">\n",
       "      <th></th>\n",
       "      <th>CustomerID</th>\n",
       "      <th>ProdTaken</th>\n",
       "      <th>Age</th>\n",
       "      <th>TypeofContact</th>\n",
       "      <th>CityTier</th>\n",
       "      <th>DurationOfPitch</th>\n",
       "      <th>Occupation</th>\n",
       "      <th>Gender</th>\n",
       "      <th>NumberOfPersonVisiting</th>\n",
       "      <th>NumberOfFollowups</th>\n",
       "      <th>ProductPitched</th>\n",
       "      <th>PreferredPropertyStar</th>\n",
       "      <th>MaritalStatus</th>\n",
       "      <th>NumberOfTrips</th>\n",
       "      <th>Passport</th>\n",
       "      <th>PitchSatisfactionScore</th>\n",
       "      <th>OwnCar</th>\n",
       "      <th>NumberOfChildrenVisiting</th>\n",
       "      <th>Designation</th>\n",
       "      <th>MonthlyIncome</th>\n",
       "    </tr>\n",
       "  </thead>\n",
       "  <tbody>\n",
       "    <tr>\n",
       "      <th>0</th>\n",
       "      <td>200000</td>\n",
       "      <td>1</td>\n",
       "      <td>41.0</td>\n",
       "      <td>Self Enquiry</td>\n",
       "      <td>3</td>\n",
       "      <td>6.0</td>\n",
       "      <td>Salaried</td>\n",
       "      <td>Female</td>\n",
       "      <td>3</td>\n",
       "      <td>3.0</td>\n",
       "      <td>Deluxe</td>\n",
       "      <td>3.0</td>\n",
       "      <td>Single</td>\n",
       "      <td>1.0</td>\n",
       "      <td>1</td>\n",
       "      <td>2</td>\n",
       "      <td>1</td>\n",
       "      <td>0.0</td>\n",
       "      <td>2</td>\n",
       "      <td>20993.0</td>\n",
       "    </tr>\n",
       "    <tr>\n",
       "      <th>1</th>\n",
       "      <td>200001</td>\n",
       "      <td>0</td>\n",
       "      <td>49.0</td>\n",
       "      <td>Company Invited</td>\n",
       "      <td>1</td>\n",
       "      <td>14.0</td>\n",
       "      <td>Salaried</td>\n",
       "      <td>Male</td>\n",
       "      <td>3</td>\n",
       "      <td>4.0</td>\n",
       "      <td>Deluxe</td>\n",
       "      <td>4.0</td>\n",
       "      <td>Divorced</td>\n",
       "      <td>2.0</td>\n",
       "      <td>0</td>\n",
       "      <td>3</td>\n",
       "      <td>1</td>\n",
       "      <td>2.0</td>\n",
       "      <td>2</td>\n",
       "      <td>20130.0</td>\n",
       "    </tr>\n",
       "    <tr>\n",
       "      <th>2</th>\n",
       "      <td>200002</td>\n",
       "      <td>1</td>\n",
       "      <td>37.0</td>\n",
       "      <td>Self Enquiry</td>\n",
       "      <td>1</td>\n",
       "      <td>8.0</td>\n",
       "      <td>Free Lancer</td>\n",
       "      <td>Male</td>\n",
       "      <td>3</td>\n",
       "      <td>4.0</td>\n",
       "      <td>Basic</td>\n",
       "      <td>3.0</td>\n",
       "      <td>Single</td>\n",
       "      <td>7.0</td>\n",
       "      <td>1</td>\n",
       "      <td>3</td>\n",
       "      <td>0</td>\n",
       "      <td>0.0</td>\n",
       "      <td>1</td>\n",
       "      <td>17090.0</td>\n",
       "    </tr>\n",
       "    <tr>\n",
       "      <th>3</th>\n",
       "      <td>200003</td>\n",
       "      <td>0</td>\n",
       "      <td>33.0</td>\n",
       "      <td>Company Invited</td>\n",
       "      <td>1</td>\n",
       "      <td>9.0</td>\n",
       "      <td>Salaried</td>\n",
       "      <td>Female</td>\n",
       "      <td>2</td>\n",
       "      <td>3.0</td>\n",
       "      <td>Basic</td>\n",
       "      <td>3.0</td>\n",
       "      <td>Divorced</td>\n",
       "      <td>2.0</td>\n",
       "      <td>1</td>\n",
       "      <td>5</td>\n",
       "      <td>1</td>\n",
       "      <td>1.0</td>\n",
       "      <td>1</td>\n",
       "      <td>17909.0</td>\n",
       "    </tr>\n",
       "    <tr>\n",
       "      <th>4</th>\n",
       "      <td>200004</td>\n",
       "      <td>0</td>\n",
       "      <td>NaN</td>\n",
       "      <td>Self Enquiry</td>\n",
       "      <td>1</td>\n",
       "      <td>8.0</td>\n",
       "      <td>Small Business</td>\n",
       "      <td>Male</td>\n",
       "      <td>2</td>\n",
       "      <td>3.0</td>\n",
       "      <td>Basic</td>\n",
       "      <td>4.0</td>\n",
       "      <td>Divorced</td>\n",
       "      <td>1.0</td>\n",
       "      <td>0</td>\n",
       "      <td>5</td>\n",
       "      <td>1</td>\n",
       "      <td>0.0</td>\n",
       "      <td>1</td>\n",
       "      <td>18468.0</td>\n",
       "    </tr>\n",
       "  </tbody>\n",
       "</table>\n",
       "</div>"
      ],
      "text/plain": [
       "   CustomerID  ProdTaken   Age    TypeofContact  CityTier  DurationOfPitch  \\\n",
       "0      200000          1  41.0     Self Enquiry         3              6.0   \n",
       "1      200001          0  49.0  Company Invited         1             14.0   \n",
       "2      200002          1  37.0     Self Enquiry         1              8.0   \n",
       "3      200003          0  33.0  Company Invited         1              9.0   \n",
       "4      200004          0   NaN     Self Enquiry         1              8.0   \n",
       "\n",
       "       Occupation  Gender  NumberOfPersonVisiting  NumberOfFollowups  \\\n",
       "0        Salaried  Female                       3                3.0   \n",
       "1        Salaried    Male                       3                4.0   \n",
       "2     Free Lancer    Male                       3                4.0   \n",
       "3        Salaried  Female                       2                3.0   \n",
       "4  Small Business    Male                       2                3.0   \n",
       "\n",
       "  ProductPitched  PreferredPropertyStar MaritalStatus  NumberOfTrips  \\\n",
       "0         Deluxe                    3.0        Single            1.0   \n",
       "1         Deluxe                    4.0      Divorced            2.0   \n",
       "2          Basic                    3.0        Single            7.0   \n",
       "3          Basic                    3.0      Divorced            2.0   \n",
       "4          Basic                    4.0      Divorced            1.0   \n",
       "\n",
       "   Passport  PitchSatisfactionScore  OwnCar  NumberOfChildrenVisiting  \\\n",
       "0         1                       2       1                       0.0   \n",
       "1         0                       3       1                       2.0   \n",
       "2         1                       3       0                       0.0   \n",
       "3         1                       5       1                       1.0   \n",
       "4         0                       5       1                       0.0   \n",
       "\n",
       "   Designation  MonthlyIncome  \n",
       "0            2        20993.0  \n",
       "1            2        20130.0  \n",
       "2            1        17090.0  \n",
       "3            1        17909.0  \n",
       "4            1        18468.0  "
      ]
     },
     "execution_count": 19,
     "metadata": {},
     "output_type": "execute_result"
    }
   ],
   "source": [
    "df.head()"
   ]
  },
  {
   "cell_type": "markdown",
   "id": "8833f5ae",
   "metadata": {},
   "source": [
    "# Using sklearn for Marital Status\n"
   ]
  },
  {
   "cell_type": "code",
   "execution_count": 40,
   "id": "6b759f67",
   "metadata": {},
   "outputs": [],
   "source": [
    " from sklearn.preprocessing import OneHotEncoder"
   ]
  },
  {
   "cell_type": "code",
   "execution_count": 42,
   "id": "753938df",
   "metadata": {},
   "outputs": [],
   "source": [
    "df['MaritalStatus']=df['MaritalStatus'].astype('category')\n",
    "df[\"Marital_new\"]=df['MaritalStatus'].cat.codes\n",
    "enc=OneHotEncoder()\n",
    "enc_data=pd.DataFrame(enc.fit_transform(df[[\"Marital_new\"]]).toarray())\n",
    "New_df=df.join(enc_data)"
   ]
  },
  {
   "cell_type": "code",
   "execution_count": 43,
   "id": "540fd6e8",
   "metadata": {},
   "outputs": [
    {
     "name": "stdout",
     "output_type": "stream",
     "text": [
      "      CustomerID  ProdTaken   Age    TypeofContact  CityTier  DurationOfPitch  \\\n",
      "0         200000          1  41.0     Self Enquiry         3              6.0   \n",
      "1         200001          0  49.0  Company Invited         1             14.0   \n",
      "2         200002          1  37.0     Self Enquiry         1              8.0   \n",
      "3         200003          0  33.0  Company Invited         1              9.0   \n",
      "4         200004          0   NaN     Self Enquiry         1              8.0   \n",
      "...          ...        ...   ...              ...       ...              ...   \n",
      "4883      204883          1  49.0     Self Enquiry         3              9.0   \n",
      "4884      204884          1  28.0  Company Invited         1             31.0   \n",
      "4885      204885          1  52.0     Self Enquiry         3             17.0   \n",
      "4886      204886          1  19.0     Self Enquiry         3             16.0   \n",
      "4887      204887          1  36.0     Self Enquiry         1             14.0   \n",
      "\n",
      "          Occupation  Gender  NumberOfPersonVisiting  NumberOfFollowups  ...  \\\n",
      "0           Salaried  Female                       3                3.0  ...   \n",
      "1           Salaried    Male                       3                4.0  ...   \n",
      "2        Free Lancer    Male                       3                4.0  ...   \n",
      "3           Salaried  Female                       2                3.0  ...   \n",
      "4     Small Business    Male                       2                3.0  ...   \n",
      "...              ...     ...                     ...                ...  ...   \n",
      "4883  Small Business    Male                       3                5.0  ...   \n",
      "4884        Salaried    Male                       4                5.0  ...   \n",
      "4885        Salaried  Female                       4                4.0  ...   \n",
      "4886  Small Business    Male                       3                4.0  ...   \n",
      "4887        Salaried    Male                       4                4.0  ...   \n",
      "\n",
      "     PitchSatisfactionScore  OwnCar NumberOfChildrenVisiting  Designation  \\\n",
      "0                         2       1                      0.0            2   \n",
      "1                         3       1                      2.0            2   \n",
      "2                         3       0                      0.0            1   \n",
      "3                         5       1                      1.0            1   \n",
      "4                         5       1                      0.0            1   \n",
      "...                     ...     ...                      ...          ...   \n",
      "4883                      1       1                      1.0            2   \n",
      "4884                      3       1                      2.0            1   \n",
      "4885                      1       1                      3.0            3   \n",
      "4886                      5       0                      2.0            1   \n",
      "4887                      3       1                      2.0            1   \n",
      "\n",
      "      MonthlyIncome  Marital_new    0    1    2    3  \n",
      "0           20993.0            2  0.0  0.0  1.0  0.0  \n",
      "1           20130.0            0  1.0  0.0  0.0  0.0  \n",
      "2           17090.0            2  0.0  0.0  1.0  0.0  \n",
      "3           17909.0            0  1.0  0.0  0.0  0.0  \n",
      "4           18468.0            0  1.0  0.0  0.0  0.0  \n",
      "...             ...          ...  ...  ...  ...  ...  \n",
      "4883        26576.0            3  0.0  0.0  0.0  1.0  \n",
      "4884        21212.0            2  0.0  0.0  1.0  0.0  \n",
      "4885        31820.0            1  0.0  1.0  0.0  0.0  \n",
      "4886        20289.0            2  0.0  0.0  1.0  0.0  \n",
      "4887        24041.0            3  0.0  0.0  0.0  1.0  \n",
      "\n",
      "[4888 rows x 25 columns]\n"
     ]
    }
   ],
   "source": [
    "print(New_df)"
   ]
  },
  {
   "cell_type": "code",
   "execution_count": 27,
   "id": "1e53046c",
   "metadata": {},
   "outputs": [
    {
     "data": {
      "text/plain": [
       "dtype('O')"
      ]
     },
     "execution_count": 27,
     "metadata": {},
     "output_type": "execute_result"
    }
   ],
   "source": [
    "df['MaritalStatus'].dtypes"
   ]
  },
  {
   "cell_type": "code",
   "execution_count": 28,
   "id": "6aee616a",
   "metadata": {},
   "outputs": [
    {
     "name": "stdout",
     "output_type": "stream",
     "text": [
      "<class 'pandas.core.frame.DataFrame'>\n",
      "RangeIndex: 4888 entries, 0 to 4887\n",
      "Data columns (total 20 columns):\n",
      " #   Column                    Non-Null Count  Dtype  \n",
      "---  ------                    --------------  -----  \n",
      " 0   CustomerID                4888 non-null   int64  \n",
      " 1   ProdTaken                 4888 non-null   int64  \n",
      " 2   Age                       4662 non-null   float64\n",
      " 3   TypeofContact             4863 non-null   object \n",
      " 4   CityTier                  4888 non-null   int64  \n",
      " 5   DurationOfPitch           4637 non-null   float64\n",
      " 6   Occupation                4888 non-null   object \n",
      " 7   Gender                    4888 non-null   object \n",
      " 8   NumberOfPersonVisiting    4888 non-null   int64  \n",
      " 9   NumberOfFollowups         4843 non-null   float64\n",
      " 10  ProductPitched            4888 non-null   object \n",
      " 11  PreferredPropertyStar     4862 non-null   float64\n",
      " 12  MaritalStatus             4888 non-null   object \n",
      " 13  NumberOfTrips             4748 non-null   float64\n",
      " 14  Passport                  4888 non-null   int64  \n",
      " 15  PitchSatisfactionScore    4888 non-null   int64  \n",
      " 16  OwnCar                    4888 non-null   int64  \n",
      " 17  NumberOfChildrenVisiting  4822 non-null   float64\n",
      " 18  Designation               4888 non-null   int32  \n",
      " 19  MonthlyIncome             4655 non-null   float64\n",
      "dtypes: float64(7), int32(1), int64(7), object(5)\n",
      "memory usage: 744.8+ KB\n"
     ]
    }
   ],
   "source": [
    "df.info()"
   ]
  },
  {
   "cell_type": "code",
   "execution_count": 46,
   "id": "e47f7b8e",
   "metadata": {},
   "outputs": [
    {
     "data": {
      "text/plain": [
       "['Single', 'Divorced', 'Married', 'Unmarried']\n",
       "Categories (4, object): ['Divorced', 'Married', 'Single', 'Unmarried']"
      ]
     },
     "execution_count": 46,
     "metadata": {},
     "output_type": "execute_result"
    }
   ],
   "source": [
    "df['MaritalStatus'].unique()"
   ]
  },
  {
   "cell_type": "markdown",
   "id": "de55f78c",
   "metadata": {},
   "source": [
    "# Target Encoding"
   ]
  },
  {
   "cell_type": "code",
   "execution_count": 48,
   "id": "e38cd9c2",
   "metadata": {},
   "outputs": [
    {
     "data": {
      "text/plain": [
       "ProductPitched\n",
       "Basic           19939.922507\n",
       "Deluxe          22643.157629\n",
       "Standard        26637.749326\n",
       "Super Deluxe    32241.046784\n",
       "King            35878.947826\n",
       "Name: MonthlyIncome, dtype: float64"
      ]
     },
     "execution_count": 48,
     "metadata": {},
     "output_type": "execute_result"
    }
   ],
   "source": [
    "df.groupby(['ProductPitched'])['MonthlyIncome'].mean().sort_values()"
   ]
  },
  {
   "cell_type": "markdown",
   "id": "b4186b8d",
   "metadata": {},
   "source": [
    "# Scaling of featues"
   ]
  },
  {
   "cell_type": "code",
   "execution_count": null,
   "id": "54b83dd0",
   "metadata": {},
   "outputs": [],
   "source": [
    "#Standardisation\n",
    "# used when distribution is normal\n",
    "#we try to bring all the variables or features to a similar scale.\n",
    "#Standardisation means centering the variables at zero.\n",
    "z=(x-x_mean)/Std"
   ]
  },
  {
   "cell_type": "code",
   "execution_count": 49,
   "id": "9c949175",
   "metadata": {},
   "outputs": [],
   "source": [
    "from sklearn.preprocessing import StandardScaler"
   ]
  },
  {
   "cell_type": "code",
   "execution_count": 53,
   "id": "d607343d",
   "metadata": {},
   "outputs": [],
   "source": [
    "# difference in fit and fit_transform\n",
    "#wrt to ML algorithm we only do fit but if we want to change data then fit_transform is used\n",
    "\n",
    "scaler=StandardScaler()\n",
    "df_scaled=scaler.fit_transform(df[['MonthlyIncome','Age']])"
   ]
  },
  {
   "cell_type": "code",
   "execution_count": 54,
   "id": "991f63e6",
   "metadata": {},
   "outputs": [
    {
     "data": {
      "text/plain": [
       "array([[-0.48825181,  0.36259734],\n",
       "       [-0.64865714,  1.22139144],\n",
       "       [-1.21370026, -0.0667997 ],\n",
       "       ...,\n",
       "       [ 1.5241567 ,  1.54343922],\n",
       "       [-0.6191039 , -1.99908641],\n",
       "       [ 0.07827827, -0.17414896]])"
      ]
     },
     "execution_count": 54,
     "metadata": {},
     "output_type": "execute_result"
    }
   ],
   "source": [
    "df_scaled"
   ]
  },
  {
   "cell_type": "code",
   "execution_count": 55,
   "id": "0e0f7f4c",
   "metadata": {},
   "outputs": [
    {
     "data": {
      "text/html": [
       "<div>\n",
       "<style scoped>\n",
       "    .dataframe tbody tr th:only-of-type {\n",
       "        vertical-align: middle;\n",
       "    }\n",
       "\n",
       "    .dataframe tbody tr th {\n",
       "        vertical-align: top;\n",
       "    }\n",
       "\n",
       "    .dataframe thead th {\n",
       "        text-align: right;\n",
       "    }\n",
       "</style>\n",
       "<table border=\"1\" class=\"dataframe\">\n",
       "  <thead>\n",
       "    <tr style=\"text-align: right;\">\n",
       "      <th></th>\n",
       "      <th>0</th>\n",
       "      <th>1</th>\n",
       "    </tr>\n",
       "  </thead>\n",
       "  <tbody>\n",
       "    <tr>\n",
       "      <th>0</th>\n",
       "      <td>-0.488252</td>\n",
       "      <td>0.362597</td>\n",
       "    </tr>\n",
       "    <tr>\n",
       "      <th>1</th>\n",
       "      <td>-0.648657</td>\n",
       "      <td>1.221391</td>\n",
       "    </tr>\n",
       "    <tr>\n",
       "      <th>2</th>\n",
       "      <td>-1.213700</td>\n",
       "      <td>-0.066800</td>\n",
       "    </tr>\n",
       "    <tr>\n",
       "      <th>3</th>\n",
       "      <td>-1.061473</td>\n",
       "      <td>-0.496197</td>\n",
       "    </tr>\n",
       "    <tr>\n",
       "      <th>4</th>\n",
       "      <td>-0.957572</td>\n",
       "      <td>NaN</td>\n",
       "    </tr>\n",
       "    <tr>\n",
       "      <th>...</th>\n",
       "      <td>...</td>\n",
       "      <td>...</td>\n",
       "    </tr>\n",
       "    <tr>\n",
       "      <th>4883</th>\n",
       "      <td>0.549457</td>\n",
       "      <td>1.221391</td>\n",
       "    </tr>\n",
       "    <tr>\n",
       "      <th>4884</th>\n",
       "      <td>-0.447546</td>\n",
       "      <td>-1.032943</td>\n",
       "    </tr>\n",
       "    <tr>\n",
       "      <th>4885</th>\n",
       "      <td>1.524157</td>\n",
       "      <td>1.543439</td>\n",
       "    </tr>\n",
       "    <tr>\n",
       "      <th>4886</th>\n",
       "      <td>-0.619104</td>\n",
       "      <td>-1.999086</td>\n",
       "    </tr>\n",
       "    <tr>\n",
       "      <th>4887</th>\n",
       "      <td>0.078278</td>\n",
       "      <td>-0.174149</td>\n",
       "    </tr>\n",
       "  </tbody>\n",
       "</table>\n",
       "<p>4888 rows × 2 columns</p>\n",
       "</div>"
      ],
      "text/plain": [
       "             0         1\n",
       "0    -0.488252  0.362597\n",
       "1    -0.648657  1.221391\n",
       "2    -1.213700 -0.066800\n",
       "3    -1.061473 -0.496197\n",
       "4    -0.957572       NaN\n",
       "...        ...       ...\n",
       "4883  0.549457  1.221391\n",
       "4884 -0.447546 -1.032943\n",
       "4885  1.524157  1.543439\n",
       "4886 -0.619104 -1.999086\n",
       "4887  0.078278 -0.174149\n",
       "\n",
       "[4888 rows x 2 columns]"
      ]
     },
     "execution_count": 55,
     "metadata": {},
     "output_type": "execute_result"
    }
   ],
   "source": [
    "pd.DataFrame(df_scaled)"
   ]
  },
  {
   "cell_type": "code",
   "execution_count": 56,
   "id": "02d1e0dc",
   "metadata": {},
   "outputs": [],
   "source": [
    "%matplotlib inline"
   ]
  },
  {
   "cell_type": "code",
   "execution_count": 58,
   "id": "d855d52c",
   "metadata": {},
   "outputs": [
    {
     "data": {
      "text/plain": [
       "(array([ 84.,  87., 102., 180., 285., 377., 589., 448., 416., 326., 301.,\n",
       "        272., 221., 274., 151., 158., 127., 122.,  60.,  82.]),\n",
       " array([-2.10643567, -1.87563476, -1.64483384, -1.41403293, -1.18323202,\n",
       "        -0.95243111, -0.7216302 , -0.49082928, -0.26002837, -0.02922746,\n",
       "         0.20157345,  0.43237436,  0.66317528,  0.89397619,  1.1247771 ,\n",
       "         1.35557801,  1.58637893,  1.81717984,  2.04798075,  2.27878166,\n",
       "         2.50958257]),\n",
       " <BarContainer object of 20 artists>)"
      ]
     },
     "execution_count": 58,
     "metadata": {},
     "output_type": "execute_result"
    },
    {
     "data": {
      "image/png": "[encoded data removed]",
      "text/plain": [
       "<Figure size 432x288 with 1 Axes>"
      ]
     },
     "metadata": {
      "needs_background": "light"
     },
     "output_type": "display_data"
    }
   ],
   "source": [
    "plt.hist(df_scaled[:,1],bins=20)"
   ]
  },
  {
   "cell_type": "code",
   "execution_count": 61,
   "id": "43b94f8b",
   "metadata": {},
   "outputs": [
    {
     "data": {
      "text/plain": [
       "(array([2.000e+00, 0.000e+00, 0.000e+00, 1.227e+03, 2.203e+03, 6.400e+02,\n",
       "        3.790e+02, 2.020e+02, 0.000e+00, 0.000e+00, 0.000e+00, 0.000e+00,\n",
       "        0.000e+00, 0.000e+00, 0.000e+00, 0.000e+00, 0.000e+00, 0.000e+00,\n",
       "        0.000e+00, 2.000e+00]),\n",
       " array([-4.20433966, -3.29657187, -2.38880407, -1.48103628, -0.57326849,\n",
       "         0.3344993 ,  1.24226709,  2.15003489,  3.05780268,  3.96557047,\n",
       "         4.87333826,  5.78110605,  6.68887385,  7.59664164,  8.50440943,\n",
       "         9.41217722, 10.31994501, 11.22771281, 12.1354806 , 13.04324839,\n",
       "        13.95101618]),\n",
       " <BarContainer object of 20 artists>)"
      ]
     },
     "execution_count": 61,
     "metadata": {},
     "output_type": "execute_result"
    },
    {
     "data": {
      "image/png": "[encoded data removed]",
      "text/plain": [
       "<Figure size 432x288 with 1 Axes>"
      ]
     },
     "metadata": {
      "needs_background": "light"
     },
     "output_type": "display_data"
    }
   ],
   "source": [
    "plt.hist(df_scaled[:,0],bins=20)"
   ]
  },
  {
   "cell_type": "markdown",
   "id": "3e8f1fb7",
   "metadata": {},
   "source": [
    "# Min max Scaler transform Use in CNN and Deep learning"
   ]
  },
  {
   "cell_type": "code",
   "execution_count": null,
   "id": "41e1e84a",
   "metadata": {},
   "outputs": [],
   "source": [
    "# Transform the value between 0 to 1\n"
   ]
  },
  {
   "cell_type": "code",
   "execution_count": 62,
   "id": "449dde73",
   "metadata": {},
   "outputs": [],
   "source": [
    "from sklearn.preprocessing import MinMaxScaler\n",
    "min_max=MinMaxScaler()\n",
    "df_minmax=pd.DataFrame(min_max.fit_transform(df[['MonthlyIncome','Age']]))"
   ]
  },
  {
   "cell_type": "code",
   "execution_count": 63,
   "id": "b79ace7e",
   "metadata": {},
   "outputs": [
    {
     "data": {
      "text/html": [
       "<div>\n",
       "<style scoped>\n",
       "    .dataframe tbody tr th:only-of-type {\n",
       "        vertical-align: middle;\n",
       "    }\n",
       "\n",
       "    .dataframe tbody tr th {\n",
       "        vertical-align: top;\n",
       "    }\n",
       "\n",
       "    .dataframe thead th {\n",
       "        text-align: right;\n",
       "    }\n",
       "</style>\n",
       "<table border=\"1\" class=\"dataframe\">\n",
       "  <thead>\n",
       "    <tr style=\"text-align: right;\">\n",
       "      <th></th>\n",
       "      <th>0</th>\n",
       "      <th>1</th>\n",
       "    </tr>\n",
       "  </thead>\n",
       "  <tbody>\n",
       "    <tr>\n",
       "      <th>0</th>\n",
       "      <td>0.204683</td>\n",
       "      <td>0.534884</td>\n",
       "    </tr>\n",
       "    <tr>\n",
       "      <th>1</th>\n",
       "      <td>0.195848</td>\n",
       "      <td>0.720930</td>\n",
       "    </tr>\n",
       "    <tr>\n",
       "      <th>2</th>\n",
       "      <td>0.164725</td>\n",
       "      <td>0.441860</td>\n",
       "    </tr>\n",
       "    <tr>\n",
       "      <th>3</th>\n",
       "      <td>0.173110</td>\n",
       "      <td>0.348837</td>\n",
       "    </tr>\n",
       "    <tr>\n",
       "      <th>4</th>\n",
       "      <td>0.178832</td>\n",
       "      <td>NaN</td>\n",
       "    </tr>\n",
       "    <tr>\n",
       "      <th>...</th>\n",
       "      <td>...</td>\n",
       "      <td>...</td>\n",
       "    </tr>\n",
       "    <tr>\n",
       "      <th>4883</th>\n",
       "      <td>0.261840</td>\n",
       "      <td>0.720930</td>\n",
       "    </tr>\n",
       "    <tr>\n",
       "      <th>4884</th>\n",
       "      <td>0.206925</td>\n",
       "      <td>0.232558</td>\n",
       "    </tr>\n",
       "    <tr>\n",
       "      <th>4885</th>\n",
       "      <td>0.315527</td>\n",
       "      <td>0.790698</td>\n",
       "    </tr>\n",
       "    <tr>\n",
       "      <th>4886</th>\n",
       "      <td>0.197475</td>\n",
       "      <td>0.023256</td>\n",
       "    </tr>\n",
       "    <tr>\n",
       "      <th>4887</th>\n",
       "      <td>0.235887</td>\n",
       "      <td>0.418605</td>\n",
       "    </tr>\n",
       "  </tbody>\n",
       "</table>\n",
       "<p>4888 rows × 2 columns</p>\n",
       "</div>"
      ],
      "text/plain": [
       "             0         1\n",
       "0     0.204683  0.534884\n",
       "1     0.195848  0.720930\n",
       "2     0.164725  0.441860\n",
       "3     0.173110  0.348837\n",
       "4     0.178832       NaN\n",
       "...        ...       ...\n",
       "4883  0.261840  0.720930\n",
       "4884  0.206925  0.232558\n",
       "4885  0.315527  0.790698\n",
       "4886  0.197475  0.023256\n",
       "4887  0.235887  0.418605\n",
       "\n",
       "[4888 rows x 2 columns]"
      ]
     },
     "execution_count": 63,
     "metadata": {},
     "output_type": "execute_result"
    }
   ],
   "source": [
    "df_minmax"
   ]
  },
  {
   "cell_type": "code",
   "execution_count": 69,
   "id": "ac895dbf",
   "metadata": {},
   "outputs": [
    {
     "data": {
      "text/plain": [
       "(array([[1.000e+00, 1.000e+00, 0.000e+00, 0.000e+00, 2.200e+02, 1.007e+03,\n",
       "         1.674e+03, 7.960e+02, 3.730e+02, 2.490e+02, 2.130e+02, 1.190e+02,\n",
       "         0.000e+00, 0.000e+00, 0.000e+00, 0.000e+00, 0.000e+00, 0.000e+00,\n",
       "         0.000e+00, 0.000e+00, 0.000e+00, 0.000e+00, 0.000e+00, 0.000e+00,\n",
       "         0.000e+00, 0.000e+00, 0.000e+00, 0.000e+00, 1.000e+00, 1.000e+00],\n",
       "        [4.600e+01, 3.800e+01, 8.700e+01, 4.600e+01, 1.300e+02, 1.060e+02,\n",
       "         2.850e+02, 1.780e+02, 1.990e+02, 4.000e+02, 1.890e+02, 4.480e+02,\n",
       "         2.310e+02, 3.610e+02, 1.500e+02, 1.460e+02, 2.970e+02, 1.300e+02,\n",
       "         2.210e+02, 1.210e+02, 1.530e+02, 6.500e+01, 8.600e+01, 1.580e+02,\n",
       "         6.600e+01, 1.250e+02, 5.800e+01, 6.000e+01, 4.400e+01, 3.800e+01]]),\n",
       " array([0.        , 0.03333333, 0.06666667, 0.1       , 0.13333333,\n",
       "        0.16666667, 0.2       , 0.23333333, 0.26666667, 0.3       ,\n",
       "        0.33333333, 0.36666667, 0.4       , 0.43333333, 0.46666667,\n",
       "        0.5       , 0.53333333, 0.56666667, 0.6       , 0.63333333,\n",
       "        0.66666667, 0.7       , 0.73333333, 0.76666667, 0.8       ,\n",
       "        0.83333333, 0.86666667, 0.9       , 0.93333333, 0.96666667,\n",
       "        1.        ]),\n",
       " <a list of 2 BarContainer objects>)"
      ]
     },
     "execution_count": 69,
     "metadata": {},
     "output_type": "execute_result"
    },
    {
     "data": {
      "image/png": "[encoded data removed]",
      "text/plain": [
       "<Figure size 432x288 with 1 Axes>"
      ]
     },
     "metadata": {
      "needs_background": "light"
     },
     "output_type": "display_data"
    }
   ],
   "source": [
    "plt.hist(df_minmax,bins=30)"
   ]
  },
  {
   "cell_type": "markdown",
   "id": "288525c0",
   "metadata": {},
   "source": [
    "# Robust scaler"
   ]
  },
  {
   "cell_type": "code",
   "execution_count": null,
   "id": "d2992790",
   "metadata": {},
   "outputs": [],
   "source": [
    "#It is used to scale the feature to median and quantiles\n",
    "x_scaled=(x-x_median)/IQR"
   ]
  },
  {
   "cell_type": "code",
   "execution_count": 73,
   "id": "7868c039",
   "metadata": {},
   "outputs": [
    {
     "data": {
      "text/html": [
       "<div>\n",
       "<style scoped>\n",
       "    .dataframe tbody tr th:only-of-type {\n",
       "        vertical-align: middle;\n",
       "    }\n",
       "\n",
       "    .dataframe tbody tr th {\n",
       "        vertical-align: top;\n",
       "    }\n",
       "\n",
       "    .dataframe thead th {\n",
       "        text-align: right;\n",
       "    }\n",
       "</style>\n",
       "<table border=\"1\" class=\"dataframe\">\n",
       "  <thead>\n",
       "    <tr style=\"text-align: right;\">\n",
       "      <th></th>\n",
       "      <th>0</th>\n",
       "      <th>1</th>\n",
       "    </tr>\n",
       "  </thead>\n",
       "  <tbody>\n",
       "    <tr>\n",
       "      <th>0</th>\n",
       "      <td>-0.259139</td>\n",
       "      <td>0.384615</td>\n",
       "    </tr>\n",
       "    <tr>\n",
       "      <th>1</th>\n",
       "      <td>-0.424306</td>\n",
       "      <td>1.000000</td>\n",
       "    </tr>\n",
       "    <tr>\n",
       "      <th>2</th>\n",
       "      <td>-1.006124</td>\n",
       "      <td>0.076923</td>\n",
       "    </tr>\n",
       "    <tr>\n",
       "      <th>3</th>\n",
       "      <td>-0.849378</td>\n",
       "      <td>-0.230769</td>\n",
       "    </tr>\n",
       "    <tr>\n",
       "      <th>4</th>\n",
       "      <td>-0.742392</td>\n",
       "      <td>NaN</td>\n",
       "    </tr>\n",
       "    <tr>\n",
       "      <th>...</th>\n",
       "      <td>...</td>\n",
       "      <td>...</td>\n",
       "    </tr>\n",
       "    <tr>\n",
       "      <th>4883</th>\n",
       "      <td>0.809378</td>\n",
       "      <td>1.000000</td>\n",
       "    </tr>\n",
       "    <tr>\n",
       "      <th>4884</th>\n",
       "      <td>-0.217225</td>\n",
       "      <td>-0.615385</td>\n",
       "    </tr>\n",
       "    <tr>\n",
       "      <th>4885</th>\n",
       "      <td>1.813014</td>\n",
       "      <td>1.230769</td>\n",
       "    </tr>\n",
       "    <tr>\n",
       "      <th>4886</th>\n",
       "      <td>-0.393876</td>\n",
       "      <td>-1.307692</td>\n",
       "    </tr>\n",
       "    <tr>\n",
       "      <th>4887</th>\n",
       "      <td>0.324211</td>\n",
       "      <td>0.000000</td>\n",
       "    </tr>\n",
       "  </tbody>\n",
       "</table>\n",
       "<p>4888 rows × 2 columns</p>\n",
       "</div>"
      ],
      "text/plain": [
       "             0         1\n",
       "0    -0.259139  0.384615\n",
       "1    -0.424306  1.000000\n",
       "2    -1.006124  0.076923\n",
       "3    -0.849378 -0.230769\n",
       "4    -0.742392       NaN\n",
       "...        ...       ...\n",
       "4883  0.809378  1.000000\n",
       "4884 -0.217225 -0.615385\n",
       "4885  1.813014  1.230769\n",
       "4886 -0.393876 -1.307692\n",
       "4887  0.324211  0.000000\n",
       "\n",
       "[4888 rows x 2 columns]"
      ]
     },
     "execution_count": 73,
     "metadata": {},
     "output_type": "execute_result"
    }
   ],
   "source": [
    "from sklearn.preprocessing import RobustScaler\n",
    "scaler=RobustScaler()\n",
    "df_robust_scaler=pd.DataFrame(scaler.fit_transform(df[['MonthlyIncome','Age']]))\n",
    "df_robust_scaler"
   ]
  },
  {
   "cell_type": "code",
   "execution_count": 74,
   "id": "5e62e030",
   "metadata": {},
   "outputs": [
    {
     "data": {
      "text/plain": [
       "(array([[1.000e+00, 1.000e+00, 0.000e+00, 0.000e+00, 2.200e+02, 1.007e+03,\n",
       "         1.674e+03, 7.960e+02, 3.730e+02, 2.490e+02, 2.130e+02, 1.190e+02,\n",
       "         0.000e+00, 0.000e+00, 0.000e+00, 0.000e+00, 0.000e+00, 0.000e+00,\n",
       "         0.000e+00, 0.000e+00, 0.000e+00, 0.000e+00, 0.000e+00, 0.000e+00,\n",
       "         0.000e+00, 0.000e+00, 0.000e+00, 0.000e+00, 1.000e+00, 1.000e+00],\n",
       "        [0.000e+00, 0.000e+00, 0.000e+00, 0.000e+00, 2.170e+02, 1.101e+03,\n",
       "         1.576e+03, 1.003e+03, 5.650e+02, 2.000e+02, 0.000e+00, 0.000e+00,\n",
       "         0.000e+00, 0.000e+00, 0.000e+00, 0.000e+00, 0.000e+00, 0.000e+00,\n",
       "         0.000e+00, 0.000e+00, 0.000e+00, 0.000e+00, 0.000e+00, 0.000e+00,\n",
       "         0.000e+00, 0.000e+00, 0.000e+00, 0.000e+00, 0.000e+00, 0.000e+00]]),\n",
       " array([-4.08555024, -3.4624051 , -2.83925997, -2.21611483, -1.5929697 ,\n",
       "        -0.96982456, -0.34667943,  0.27646571,  0.89961085,  1.52275598,\n",
       "         2.14590112,  2.76904625,  3.39219139,  4.01533652,  4.63848166,\n",
       "         5.26162679,  5.88477193,  6.50791707,  7.1310622 ,  7.75420734,\n",
       "         8.37735247,  9.00049761,  9.62364274, 10.24678788, 10.86993301,\n",
       "        11.49307815, 12.11622329, 12.73936842, 13.36251356, 13.98565869,\n",
       "        14.60880383]),\n",
       " <a list of 2 BarContainer objects>)"
      ]
     },
     "execution_count": 74,
     "metadata": {},
     "output_type": "execute_result"
    },
    {
     "data": {
      "image/png": "[encoded data removed]",
      "text/plain": [
       "<Figure size 432x288 with 1 Axes>"
      ]
     },
     "metadata": {
      "needs_background": "light"
     },
     "output_type": "display_data"
    }
   ],
   "source": [
    "plt.hist(df_robust_scaler,bins=30)"
   ]
  },
  {
   "cell_type": "markdown",
   "id": "f18bea60",
   "metadata": {},
   "source": [
    "# Transformation"
   ]
  },
  {
   "cell_type": "code",
   "execution_count": null,
   "id": "a2f66bcb",
   "metadata": {},
   "outputs": [],
   "source": [
    "#Gaussian Transformation\n",
    "# some ML algorithm like linear and logistic assume that the features are normally distibuted\n",
    "they give accuracy and performance"
   ]
  },
  {
   "cell_type": "code",
   "execution_count": null,
   "id": "1f9301f6",
   "metadata": {},
   "outputs": [],
   "source": [
    "#conversion of any distribution into normal distribution"
   ]
  },
  {
   "cell_type": "code",
   "execution_count": 8,
   "id": "ad60a1d1",
   "metadata": {},
   "outputs": [],
   "source": [
    "df_column=df[['Age','MonthlyIncome']]"
   ]
  },
  {
   "cell_type": "code",
   "execution_count": 9,
   "id": "84fc5295",
   "metadata": {},
   "outputs": [
    {
     "data": {
      "text/html": [
       "<div>\n",
       "<style scoped>\n",
       "    .dataframe tbody tr th:only-of-type {\n",
       "        vertical-align: middle;\n",
       "    }\n",
       "\n",
       "    .dataframe tbody tr th {\n",
       "        vertical-align: top;\n",
       "    }\n",
       "\n",
       "    .dataframe thead th {\n",
       "        text-align: right;\n",
       "    }\n",
       "</style>\n",
       "<table border=\"1\" class=\"dataframe\">\n",
       "  <thead>\n",
       "    <tr style=\"text-align: right;\">\n",
       "      <th></th>\n",
       "      <th>Age</th>\n",
       "      <th>MonthlyIncome</th>\n",
       "    </tr>\n",
       "  </thead>\n",
       "  <tbody>\n",
       "    <tr>\n",
       "      <th>0</th>\n",
       "      <td>41.0</td>\n",
       "      <td>20993.0</td>\n",
       "    </tr>\n",
       "    <tr>\n",
       "      <th>1</th>\n",
       "      <td>49.0</td>\n",
       "      <td>20130.0</td>\n",
       "    </tr>\n",
       "    <tr>\n",
       "      <th>2</th>\n",
       "      <td>37.0</td>\n",
       "      <td>17090.0</td>\n",
       "    </tr>\n",
       "    <tr>\n",
       "      <th>3</th>\n",
       "      <td>33.0</td>\n",
       "      <td>17909.0</td>\n",
       "    </tr>\n",
       "    <tr>\n",
       "      <th>4</th>\n",
       "      <td>NaN</td>\n",
       "      <td>18468.0</td>\n",
       "    </tr>\n",
       "    <tr>\n",
       "      <th>...</th>\n",
       "      <td>...</td>\n",
       "      <td>...</td>\n",
       "    </tr>\n",
       "    <tr>\n",
       "      <th>4883</th>\n",
       "      <td>49.0</td>\n",
       "      <td>26576.0</td>\n",
       "    </tr>\n",
       "    <tr>\n",
       "      <th>4884</th>\n",
       "      <td>28.0</td>\n",
       "      <td>21212.0</td>\n",
       "    </tr>\n",
       "    <tr>\n",
       "      <th>4885</th>\n",
       "      <td>52.0</td>\n",
       "      <td>31820.0</td>\n",
       "    </tr>\n",
       "    <tr>\n",
       "      <th>4886</th>\n",
       "      <td>19.0</td>\n",
       "      <td>20289.0</td>\n",
       "    </tr>\n",
       "    <tr>\n",
       "      <th>4887</th>\n",
       "      <td>36.0</td>\n",
       "      <td>24041.0</td>\n",
       "    </tr>\n",
       "  </tbody>\n",
       "</table>\n",
       "<p>4888 rows × 2 columns</p>\n",
       "</div>"
      ],
      "text/plain": [
       "       Age  MonthlyIncome\n",
       "0     41.0        20993.0\n",
       "1     49.0        20130.0\n",
       "2     37.0        17090.0\n",
       "3     33.0        17909.0\n",
       "4      NaN        18468.0\n",
       "...    ...            ...\n",
       "4883  49.0        26576.0\n",
       "4884  28.0        21212.0\n",
       "4885  52.0        31820.0\n",
       "4886  19.0        20289.0\n",
       "4887  36.0        24041.0\n",
       "\n",
       "[4888 rows x 2 columns]"
      ]
     },
     "execution_count": 9,
     "metadata": {},
     "output_type": "execute_result"
    }
   ],
   "source": [
    "df_column"
   ]
  },
  {
   "cell_type": "code",
   "execution_count": null,
   "id": "187f8cdc",
   "metadata": {},
   "outputs": [],
   "source": [
    "#### if you want to check whether feature is gussian or normal distribution\n",
    "## Q-Q plot is used "
   ]
  },
  {
   "cell_type": "code",
   "execution_count": 20,
   "id": "abeae96b",
   "metadata": {},
   "outputs": [],
   "source": [
    "import scipy.stats as stat\n",
    "import pylab"
   ]
  },
  {
   "cell_type": "code",
   "execution_count": 23,
   "id": "77b81144",
   "metadata": {},
   "outputs": [],
   "source": [
    "def plot_data(df,feature):\n",
    "    plt.figure(figsize=(10,6))\n",
    "    plt.subplot(1,2,1)\n",
    "    df[feature].hist()\n",
    "    plt.subplot(1,2,2)\n",
    "    stat.probplot(df[feature],dist='norm',plot=pylab)\n",
    "    plt.show()"
   ]
  },
  {
   "cell_type": "code",
   "execution_count": 24,
   "id": "2a6295d9",
   "metadata": {},
   "outputs": [
    {
     "data": {
      "image/png": "[encoded data removed]",
      "text/plain": [
       "<Figure size 720x432 with 2 Axes>"
      ]
     },
     "metadata": {
      "needs_background": "light"
     },
     "output_type": "display_data"
    }
   ],
   "source": [
    "plot_data(df,\"Age\")"
   ]
  },
  {
   "cell_type": "code",
   "execution_count": null,
   "id": "da0d7fbc",
   "metadata": {},
   "outputs": [],
   "source": []
  },
  {
   "cell_type": "code",
   "execution_count": null,
   "id": "1599c93a",
   "metadata": {},
   "outputs": [],
   "source": []
  },
  {
   "cell_type": "markdown",
   "id": "859d6dfe",
   "metadata": {},
   "source": [
    "### logarithmic transformation"
   ]
  },
  {
   "cell_type": "code",
   "execution_count": 25,
   "id": "f3df80ec",
   "metadata": {},
   "outputs": [
    {
     "data": {
      "image/png": "[encoded data removed]",
      "text/plain": [
       "<Figure size 720x432 with 2 Axes>"
      ]
     },
     "metadata": {
      "needs_background": "light"
     },
     "output_type": "display_data"
    }
   ],
   "source": [
    "import numpy as np\n",
    "df['Age_log']=np.log(df[\"Age\"])\n",
    "plot_data(df,'Age_log')"
   ]
  },
  {
   "cell_type": "code",
   "execution_count": 26,
   "id": "fc7e8455",
   "metadata": {},
   "outputs": [
    {
     "data": {
      "image/png": "[encoded data removed]",
      "text/plain": [
       "<Figure size 720x432 with 2 Axes>"
      ]
     },
     "metadata": {
      "needs_background": "light"
     },
     "output_type": "display_data"
    }
   ],
   "source": [
    "df['Monthly_Income']=np.log(df[\"MonthlyIncome\"])\n",
    "plot_data(df,'Monthly_Income')"
   ]
  },
  {
   "cell_type": "code",
   "execution_count": null,
   "id": "f57a2bee",
   "metadata": {},
   "outputs": [],
   "source": [
    "###Reciprocal_transfprm\n"
   ]
  },
  {
   "cell_type": "code",
   "execution_count": 28,
   "id": "d652c191",
   "metadata": {},
   "outputs": [
    {
     "data": {
      "image/png": "[encoded data removed]",
      "text/plain": [
       "<Figure size 720x432 with 2 Axes>"
      ]
     },
     "metadata": {
      "needs_background": "light"
     },
     "output_type": "display_data"
    }
   ],
   "source": [
    "df[\"Age_Reciprocal\"]=1/df.Age\n",
    "plot_data(df,\"Age_Reciprocal\")"
   ]
  },
  {
   "cell_type": "code",
   "execution_count": 29,
   "id": "d8379abc",
   "metadata": {},
   "outputs": [
    {
     "data": {
      "image/png": "[encoded data removed]",
      "text/plain": [
       "<Figure size 720x432 with 2 Axes>"
      ]
     },
     "metadata": {
      "needs_background": "light"
     },
     "output_type": "display_data"
    }
   ],
   "source": [
    "### square root transformation\n",
    "df[\"Age_sqr\"]=df.Age**(1/2)\n",
    "plot_data(df,'Age_sqr')"
   ]
  },
  {
   "cell_type": "code",
   "execution_count": null,
   "id": "776aad60",
   "metadata": {},
   "outputs": [],
   "source": [
    "## Exponenetial Transformation"
   ]
  },
  {
   "cell_type": "code",
   "execution_count": 30,
   "id": "c0cc040c",
   "metadata": {},
   "outputs": [
    {
     "data": {
      "image/png": "[encoded data removed]",
      "text/plain": [
       "<Figure size 720x432 with 2 Axes>"
      ]
     },
     "metadata": {
      "needs_background": "light"
     },
     "output_type": "display_data"
    }
   ],
   "source": [
    "df['Age_exp']=df.Age**(1/1.2)\n",
    "plot_data(df,'Age_exp')"
   ]
  },
  {
   "cell_type": "markdown",
   "id": "77172ee1",
   "metadata": {},
   "source": [
    "##  BoxCox Transformation"
   ]
  },
  {
   "cell_type": "code",
   "execution_count": 32,
   "id": "afbe4d09",
   "metadata": {},
   "outputs": [
    {
     "name": "stdout",
     "output_type": "stream",
     "text": [
      "8.472135811722177\n"
     ]
    }
   ],
   "source": [
    "df['Age_Boxcox'],parameters=stat.boxcox(df['Age'])\n",
    "print(parameters)"
   ]
  },
  {
   "cell_type": "code",
   "execution_count": 34,
   "id": "3a31f423",
   "metadata": {},
   "outputs": [
    {
     "data": {
      "image/png": "[encoded data removed]",
      "text/plain": [
       "<Figure size 720x432 with 2 Axes>"
      ]
     },
     "metadata": {
      "needs_background": "light"
     },
     "output_type": "display_data"
    }
   ],
   "source": [
    "plot_data(df,\"Age_Boxcox\")"
   ]
  },
  {
   "cell_type": "markdown",
   "id": "c46bc629",
   "metadata": {},
   "source": []
  },
  {
   "cell_type": "code",
   "execution_count": null,
   "id": "756fe403",
   "metadata": {},
   "outputs": [],
   "source": []
  }
 ],
 "metadata": {
  "kernelspec": {
   "display_name": "Python 3 (ipykernel)",
   "language": "python",
   "name": "python3"
  },
  "language_info": {
   "codemirror_mode": {
    "name": "ipython",
    "version": 3
   },
   "file_extension": ".py",
   "mimetype": "text/x-python",
   "name": "python",
   "nbconvert_exporter": "python",
   "pygments_lexer": "ipython3",
   "version": "3.9.12"
  }
 },
 "nbformat": 4,
 "nbformat_minor": 5
}
